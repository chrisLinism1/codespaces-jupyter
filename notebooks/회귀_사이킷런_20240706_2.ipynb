{
  "nbformat": 4,
  "nbformat_minor": 0,
  "metadata": {
    "colab": {
      "provenance": []
    },
    "kernelspec": {
      "name": "python3",
      "display_name": "Python 3"
    },
    "language_info": {
      "name": "python"
    }
  },
  "cells": [
    {
      "cell_type": "code",
      "execution_count": 2,
      "metadata": {
        "id": "R2jCV_-nV-dt"
      },
      "outputs": [],
      "source": [
        "import numpy as np\n",
        "import pandas as pd\n",
        "import matplotlib.pyplot as plt\n",
        "import seaborn as sns"
      ]
    },
    {
      "cell_type": "markdown",
      "source": [
        "## 1.1 붓꽃 품좀 예측하기"
      ],
      "metadata": {
        "id": "9R7o1k4RWUWQ"
      }
    },
    {
      "cell_type": "markdown",
      "source": [
        "#### Iris 데이터 불러오기"
      ],
      "metadata": {
        "id": "tI2o9W9DWXVg"
      }
    },
    {
      "cell_type": "code",
      "source": [
        "from sklearn.datasets import load_iris\n",
        "\n",
        "iris = load_iris()\n",
        "iris_X = iris.data\n",
        "iris_y = iris.target\n",
        "\n",
        "iris_df = pd.DataFrame(iris_X, columns = iris.feature_names)\n",
        "iris_df[\"species\"] = iris_y\n",
        "\n",
        "iris_df.tail(5)"
      ],
      "metadata": {
        "colab": {
          "base_uri": "https://localhost:8080/",
          "height": 206
        },
        "id": "MToCDc57WWvA",
        "outputId": "1f8dcedd-cdce-4c9e-9ff1-9fb461c905a0"
      },
      "execution_count": 3,
      "outputs": [
        {
          "output_type": "execute_result",
          "data": {
            "text/plain": [
              "     sepal length (cm)  sepal width (cm)  petal length (cm)  petal width (cm)  \\\n",
              "145                6.7               3.0                5.2               2.3   \n",
              "146                6.3               2.5                5.0               1.9   \n",
              "147                6.5               3.0                5.2               2.0   \n",
              "148                6.2               3.4                5.4               2.3   \n",
              "149                5.9               3.0                5.1               1.8   \n",
              "\n",
              "     species  \n",
              "145        2  \n",
              "146        2  \n",
              "147        2  \n",
              "148        2  \n",
              "149        2  "
            ],
            "text/html": [
              "\n",
              "  <div id=\"df-3a7c8c6b-47f1-42bc-b6ab-b9128ac5bc64\" class=\"colab-df-container\">\n",
              "    <div>\n",
              "<style scoped>\n",
              "    .dataframe tbody tr th:only-of-type {\n",
              "        vertical-align: middle;\n",
              "    }\n",
              "\n",
              "    .dataframe tbody tr th {\n",
              "        vertical-align: top;\n",
              "    }\n",
              "\n",
              "    .dataframe thead th {\n",
              "        text-align: right;\n",
              "    }\n",
              "</style>\n",
              "<table border=\"1\" class=\"dataframe\">\n",
              "  <thead>\n",
              "    <tr style=\"text-align: right;\">\n",
              "      <th></th>\n",
              "      <th>sepal length (cm)</th>\n",
              "      <th>sepal width (cm)</th>\n",
              "      <th>petal length (cm)</th>\n",
              "      <th>petal width (cm)</th>\n",
              "      <th>species</th>\n",
              "    </tr>\n",
              "  </thead>\n",
              "  <tbody>\n",
              "    <tr>\n",
              "      <th>145</th>\n",
              "      <td>6.7</td>\n",
              "      <td>3.0</td>\n",
              "      <td>5.2</td>\n",
              "      <td>2.3</td>\n",
              "      <td>2</td>\n",
              "    </tr>\n",
              "    <tr>\n",
              "      <th>146</th>\n",
              "      <td>6.3</td>\n",
              "      <td>2.5</td>\n",
              "      <td>5.0</td>\n",
              "      <td>1.9</td>\n",
              "      <td>2</td>\n",
              "    </tr>\n",
              "    <tr>\n",
              "      <th>147</th>\n",
              "      <td>6.5</td>\n",
              "      <td>3.0</td>\n",
              "      <td>5.2</td>\n",
              "      <td>2.0</td>\n",
              "      <td>2</td>\n",
              "    </tr>\n",
              "    <tr>\n",
              "      <th>148</th>\n",
              "      <td>6.2</td>\n",
              "      <td>3.4</td>\n",
              "      <td>5.4</td>\n",
              "      <td>2.3</td>\n",
              "      <td>2</td>\n",
              "    </tr>\n",
              "    <tr>\n",
              "      <th>149</th>\n",
              "      <td>5.9</td>\n",
              "      <td>3.0</td>\n",
              "      <td>5.1</td>\n",
              "      <td>1.8</td>\n",
              "      <td>2</td>\n",
              "    </tr>\n",
              "  </tbody>\n",
              "</table>\n",
              "</div>\n",
              "    <div class=\"colab-df-buttons\">\n",
              "\n",
              "  <div class=\"colab-df-container\">\n",
              "    <button class=\"colab-df-convert\" onclick=\"convertToInteractive('df-3a7c8c6b-47f1-42bc-b6ab-b9128ac5bc64')\"\n",
              "            title=\"Convert this dataframe to an interactive table.\"\n",
              "            style=\"display:none;\">\n",
              "\n",
              "  <svg xmlns=\"http://www.w3.org/2000/svg\" height=\"24px\" viewBox=\"0 -960 960 960\">\n",
              "    <path d=\"M120-120v-720h720v720H120Zm60-500h600v-160H180v160Zm220 220h160v-160H400v160Zm0 220h160v-160H400v160ZM180-400h160v-160H180v160Zm440 0h160v-160H620v160ZM180-180h160v-160H180v160Zm440 0h160v-160H620v160Z\"/>\n",
              "  </svg>\n",
              "    </button>\n",
              "\n",
              "  <style>\n",
              "    .colab-df-container {\n",
              "      display:flex;\n",
              "      gap: 12px;\n",
              "    }\n",
              "\n",
              "    .colab-df-convert {\n",
              "      background-color: #E8F0FE;\n",
              "      border: none;\n",
              "      border-radius: 50%;\n",
              "      cursor: pointer;\n",
              "      display: none;\n",
              "      fill: #1967D2;\n",
              "      height: 32px;\n",
              "      padding: 0 0 0 0;\n",
              "      width: 32px;\n",
              "    }\n",
              "\n",
              "    .colab-df-convert:hover {\n",
              "      background-color: #E2EBFA;\n",
              "      box-shadow: 0px 1px 2px rgba(60, 64, 67, 0.3), 0px 1px 3px 1px rgba(60, 64, 67, 0.15);\n",
              "      fill: #174EA6;\n",
              "    }\n",
              "\n",
              "    .colab-df-buttons div {\n",
              "      margin-bottom: 4px;\n",
              "    }\n",
              "\n",
              "    [theme=dark] .colab-df-convert {\n",
              "      background-color: #3B4455;\n",
              "      fill: #D2E3FC;\n",
              "    }\n",
              "\n",
              "    [theme=dark] .colab-df-convert:hover {\n",
              "      background-color: #434B5C;\n",
              "      box-shadow: 0px 1px 3px 1px rgba(0, 0, 0, 0.15);\n",
              "      filter: drop-shadow(0px 1px 2px rgba(0, 0, 0, 0.3));\n",
              "      fill: #FFFFFF;\n",
              "    }\n",
              "  </style>\n",
              "\n",
              "    <script>\n",
              "      const buttonEl =\n",
              "        document.querySelector('#df-3a7c8c6b-47f1-42bc-b6ab-b9128ac5bc64 button.colab-df-convert');\n",
              "      buttonEl.style.display =\n",
              "        google.colab.kernel.accessAllowed ? 'block' : 'none';\n",
              "\n",
              "      async function convertToInteractive(key) {\n",
              "        const element = document.querySelector('#df-3a7c8c6b-47f1-42bc-b6ab-b9128ac5bc64');\n",
              "        const dataTable =\n",
              "          await google.colab.kernel.invokeFunction('convertToInteractive',\n",
              "                                                    [key], {});\n",
              "        if (!dataTable) return;\n",
              "\n",
              "        const docLinkHtml = 'Like what you see? Visit the ' +\n",
              "          '<a target=\"_blank\" href=https://colab.research.google.com/notebooks/data_table.ipynb>data table notebook</a>'\n",
              "          + ' to learn more about interactive tables.';\n",
              "        element.innerHTML = '';\n",
              "        dataTable['output_type'] = 'display_data';\n",
              "        await google.colab.output.renderOutput(dataTable, element);\n",
              "        const docLink = document.createElement('div');\n",
              "        docLink.innerHTML = docLinkHtml;\n",
              "        element.appendChild(docLink);\n",
              "      }\n",
              "    </script>\n",
              "  </div>\n",
              "\n",
              "\n",
              "<div id=\"df-6584d578-751c-406a-a42e-b64f2e039b91\">\n",
              "  <button class=\"colab-df-quickchart\" onclick=\"quickchart('df-6584d578-751c-406a-a42e-b64f2e039b91')\"\n",
              "            title=\"Suggest charts\"\n",
              "            style=\"display:none;\">\n",
              "\n",
              "<svg xmlns=\"http://www.w3.org/2000/svg\" height=\"24px\"viewBox=\"0 0 24 24\"\n",
              "     width=\"24px\">\n",
              "    <g>\n",
              "        <path d=\"M19 3H5c-1.1 0-2 .9-2 2v14c0 1.1.9 2 2 2h14c1.1 0 2-.9 2-2V5c0-1.1-.9-2-2-2zM9 17H7v-7h2v7zm4 0h-2V7h2v10zm4 0h-2v-4h2v4z\"/>\n",
              "    </g>\n",
              "</svg>\n",
              "  </button>\n",
              "\n",
              "<style>\n",
              "  .colab-df-quickchart {\n",
              "      --bg-color: #E8F0FE;\n",
              "      --fill-color: #1967D2;\n",
              "      --hover-bg-color: #E2EBFA;\n",
              "      --hover-fill-color: #174EA6;\n",
              "      --disabled-fill-color: #AAA;\n",
              "      --disabled-bg-color: #DDD;\n",
              "  }\n",
              "\n",
              "  [theme=dark] .colab-df-quickchart {\n",
              "      --bg-color: #3B4455;\n",
              "      --fill-color: #D2E3FC;\n",
              "      --hover-bg-color: #434B5C;\n",
              "      --hover-fill-color: #FFFFFF;\n",
              "      --disabled-bg-color: #3B4455;\n",
              "      --disabled-fill-color: #666;\n",
              "  }\n",
              "\n",
              "  .colab-df-quickchart {\n",
              "    background-color: var(--bg-color);\n",
              "    border: none;\n",
              "    border-radius: 50%;\n",
              "    cursor: pointer;\n",
              "    display: none;\n",
              "    fill: var(--fill-color);\n",
              "    height: 32px;\n",
              "    padding: 0;\n",
              "    width: 32px;\n",
              "  }\n",
              "\n",
              "  .colab-df-quickchart:hover {\n",
              "    background-color: var(--hover-bg-color);\n",
              "    box-shadow: 0 1px 2px rgba(60, 64, 67, 0.3), 0 1px 3px 1px rgba(60, 64, 67, 0.15);\n",
              "    fill: var(--button-hover-fill-color);\n",
              "  }\n",
              "\n",
              "  .colab-df-quickchart-complete:disabled,\n",
              "  .colab-df-quickchart-complete:disabled:hover {\n",
              "    background-color: var(--disabled-bg-color);\n",
              "    fill: var(--disabled-fill-color);\n",
              "    box-shadow: none;\n",
              "  }\n",
              "\n",
              "  .colab-df-spinner {\n",
              "    border: 2px solid var(--fill-color);\n",
              "    border-color: transparent;\n",
              "    border-bottom-color: var(--fill-color);\n",
              "    animation:\n",
              "      spin 1s steps(1) infinite;\n",
              "  }\n",
              "\n",
              "  @keyframes spin {\n",
              "    0% {\n",
              "      border-color: transparent;\n",
              "      border-bottom-color: var(--fill-color);\n",
              "      border-left-color: var(--fill-color);\n",
              "    }\n",
              "    20% {\n",
              "      border-color: transparent;\n",
              "      border-left-color: var(--fill-color);\n",
              "      border-top-color: var(--fill-color);\n",
              "    }\n",
              "    30% {\n",
              "      border-color: transparent;\n",
              "      border-left-color: var(--fill-color);\n",
              "      border-top-color: var(--fill-color);\n",
              "      border-right-color: var(--fill-color);\n",
              "    }\n",
              "    40% {\n",
              "      border-color: transparent;\n",
              "      border-right-color: var(--fill-color);\n",
              "      border-top-color: var(--fill-color);\n",
              "    }\n",
              "    60% {\n",
              "      border-color: transparent;\n",
              "      border-right-color: var(--fill-color);\n",
              "    }\n",
              "    80% {\n",
              "      border-color: transparent;\n",
              "      border-right-color: var(--fill-color);\n",
              "      border-bottom-color: var(--fill-color);\n",
              "    }\n",
              "    90% {\n",
              "      border-color: transparent;\n",
              "      border-bottom-color: var(--fill-color);\n",
              "    }\n",
              "  }\n",
              "</style>\n",
              "\n",
              "  <script>\n",
              "    async function quickchart(key) {\n",
              "      const quickchartButtonEl =\n",
              "        document.querySelector('#' + key + ' button');\n",
              "      quickchartButtonEl.disabled = true;  // To prevent multiple clicks.\n",
              "      quickchartButtonEl.classList.add('colab-df-spinner');\n",
              "      try {\n",
              "        const charts = await google.colab.kernel.invokeFunction(\n",
              "            'suggestCharts', [key], {});\n",
              "      } catch (error) {\n",
              "        console.error('Error during call to suggestCharts:', error);\n",
              "      }\n",
              "      quickchartButtonEl.classList.remove('colab-df-spinner');\n",
              "      quickchartButtonEl.classList.add('colab-df-quickchart-complete');\n",
              "    }\n",
              "    (() => {\n",
              "      let quickchartButtonEl =\n",
              "        document.querySelector('#df-6584d578-751c-406a-a42e-b64f2e039b91 button');\n",
              "      quickchartButtonEl.style.display =\n",
              "        google.colab.kernel.accessAllowed ? 'block' : 'none';\n",
              "    })();\n",
              "  </script>\n",
              "</div>\n",
              "\n",
              "    </div>\n",
              "  </div>\n"
            ],
            "application/vnd.google.colaboratory.intrinsic+json": {
              "type": "dataframe",
              "summary": "{\n  \"name\": \"iris_df\",\n  \"rows\": 5,\n  \"fields\": [\n    {\n      \"column\": \"sepal length (cm)\",\n      \"properties\": {\n        \"dtype\": \"number\",\n        \"std\": 0.30331501776206193,\n        \"min\": 5.9,\n        \"max\": 6.7,\n        \"num_unique_values\": 5,\n        \"samples\": [\n          6.3,\n          5.9,\n          6.5\n        ],\n        \"semantic_type\": \"\",\n        \"description\": \"\"\n      }\n    },\n    {\n      \"column\": \"sepal width (cm)\",\n      \"properties\": {\n        \"dtype\": \"number\",\n        \"std\": 0.31937438845342625,\n        \"min\": 2.5,\n        \"max\": 3.4,\n        \"num_unique_values\": 3,\n        \"samples\": [\n          3.0,\n          2.5,\n          3.4\n        ],\n        \"semantic_type\": \"\",\n        \"description\": \"\"\n      }\n    },\n    {\n      \"column\": \"petal length (cm)\",\n      \"properties\": {\n        \"dtype\": \"number\",\n        \"std\": 0.14832396974191348,\n        \"min\": 5.0,\n        \"max\": 5.4,\n        \"num_unique_values\": 4,\n        \"samples\": [\n          5.0,\n          5.1,\n          5.2\n        ],\n        \"semantic_type\": \"\",\n        \"description\": \"\"\n      }\n    },\n    {\n      \"column\": \"petal width (cm)\",\n      \"properties\": {\n        \"dtype\": \"number\",\n        \"std\": 0.23021728866442667,\n        \"min\": 1.8,\n        \"max\": 2.3,\n        \"num_unique_values\": 4,\n        \"samples\": [\n          1.9,\n          1.8,\n          2.3\n        ],\n        \"semantic_type\": \"\",\n        \"description\": \"\"\n      }\n    },\n    {\n      \"column\": \"species\",\n      \"properties\": {\n        \"dtype\": \"number\",\n        \"std\": 0,\n        \"min\": 2,\n        \"max\": 2,\n        \"num_unique_values\": 1,\n        \"samples\": [\n          2\n        ],\n        \"semantic_type\": \"\",\n        \"description\": \"\"\n      }\n    }\n  ]\n}"
            }
          },
          "metadata": {},
          "execution_count": 3
        }
      ]
    },
    {
      "cell_type": "markdown",
      "source": [
        "#### 학습/검증 데이터 분리"
      ],
      "metadata": {
        "id": "5JmUa5fRWizp"
      }
    },
    {
      "cell_type": "code",
      "source": [
        "from sklearn.model_selection import train_test_split\n",
        "\n",
        "X_train, X_test, y_train, y_test = train_test_split(iris_X, iris_y, test_size =0.2, random_state = 11)"
      ],
      "metadata": {
        "id": "5xmPfKDnWZ47"
      },
      "execution_count": 4,
      "outputs": []
    },
    {
      "cell_type": "markdown",
      "source": [
        "#### 의사결정나무 객체 생성"
      ],
      "metadata": {
        "id": "YVUaiQG0WrP_"
      }
    },
    {
      "cell_type": "code",
      "source": [
        "from sklearn.tree import DecisionTreeClassifier\n",
        "\n",
        "dt_clf = DecisionTreeClassifier(random_state = 1017)"
      ],
      "metadata": {
        "id": "Nfk_eCDrWtO7"
      },
      "execution_count": 5,
      "outputs": []
    },
    {
      "cell_type": "markdown",
      "source": [
        "#### 성능평가"
      ],
      "metadata": {
        "id": "LhOaR8EgWxkS"
      }
    },
    {
      "cell_type": "code",
      "source": [
        "from sklearn.metrics import accuracy_score\n",
        "\n",
        "dt_clf.fit(X_train, y_train)\n",
        "pred = dt_clf.predict(X_test)\n",
        "acc = accuracy_score(y_test, pred)\n",
        "\n",
        "print(f\"예측 정확도: {acc:.3f}\")"
      ],
      "metadata": {
        "colab": {
          "base_uri": "https://localhost:8080/"
        },
        "id": "HCj95v13WwSo",
        "outputId": "68c0aa43-05e9-44e1-c159-d86611a1dced"
      },
      "execution_count": 6,
      "outputs": [
        {
          "output_type": "stream",
          "name": "stdout",
          "text": [
            "예측 정확도: 0.867\n"
          ]
        }
      ]
    },
    {
      "cell_type": "markdown",
      "source": [
        "## 1.2 교차검증"
      ],
      "metadata": {
        "id": "N-vN9YDnW2Rn"
      }
    },
    {
      "cell_type": "markdown",
      "source": [
        "### 1.2.1 K-Fold 교차 검증"
      ],
      "metadata": {
        "id": "lU8sbzAYXEEf"
      }
    },
    {
      "cell_type": "markdown",
      "source": [
        "#### K-Fold 교차검증"
      ],
      "metadata": {
        "id": "AN9gQW-gXIPe"
      }
    },
    {
      "cell_type": "code",
      "source": [
        "from sklearn.model_selection import KFold\n",
        "\n",
        "cv_accuracy = []\n",
        "cv = KFold(5)\n",
        "df_clf = DecisionTreeClassifier(random_state = 1017)\n",
        "\n",
        "for i, (train_idx, test_idx) in enumerate(cv.split(iris_df)):\n",
        "    X_train, X_test = iris_X[train_idx], iris_X[test_idx]\n",
        "    y_train, y_test = iris_y[train_idx], iris_y[test_idx]\n",
        "\n",
        "    # 학습 및 예측\n",
        "    dt_clf.fit(X_train,y_train)\n",
        "    pred = dt_clf.predict(X_test)\n",
        "\n",
        "    # 평가: Accuracy\n",
        "    accuracy = accuracy_score(y_test,pred)\n",
        "    train_size = train_idx.shape[0]\n",
        "    test_size = test_idx.shape[0]\n",
        "\n",
        "    print(f\"#{i+1}. 학습 데이터 크기: {train_size}, 검증 데이터 크기: {test_size}, 검증 정확도: {accuracy:.3f}\")\n",
        "\n",
        "    cv_accuracy.append(accuracy)\n",
        "\n",
        "print(f\"### 평균 검증 정확도: {np.mean(cv_accuracy):.3f}\")"
      ],
      "metadata": {
        "colab": {
          "base_uri": "https://localhost:8080/"
        },
        "id": "3W3qWQ5pW4Zp",
        "outputId": "9a59eecf-5cbf-4f30-e381-eb08bde2b322"
      },
      "execution_count": 7,
      "outputs": [
        {
          "output_type": "stream",
          "name": "stdout",
          "text": [
            "#1. 학습 데이터 크기: 120, 검증 데이터 크기: 30, 검증 정확도: 1.000\n",
            "#2. 학습 데이터 크기: 120, 검증 데이터 크기: 30, 검증 정확도: 1.000\n",
            "#3. 학습 데이터 크기: 120, 검증 데이터 크기: 30, 검증 정확도: 0.900\n",
            "#4. 학습 데이터 크기: 120, 검증 데이터 크기: 30, 검증 정확도: 0.933\n",
            "#5. 학습 데이터 크기: 120, 검증 데이터 크기: 30, 검증 정확도: 0.733\n",
            "### 평균 검증 정확도: 0.913\n"
          ]
        }
      ]
    },
    {
      "cell_type": "markdown",
      "source": [
        "#### K-Fold 문제점"
      ],
      "metadata": {
        "id": "Dj9K1LFeXO7P"
      }
    },
    {
      "cell_type": "code",
      "source": [
        "# 붓꽃 품종별 데이터 갯수"
      ],
      "metadata": {
        "id": "ocVotohuXQ4w"
      },
      "execution_count": null,
      "outputs": []
    },
    {
      "cell_type": "code",
      "source": [
        "iris_df.species.value_counts()"
      ],
      "metadata": {
        "colab": {
          "base_uri": "https://localhost:8080/"
        },
        "id": "VTMKyzhnXYov",
        "outputId": "646fc3b8-dd80-4ba9-f7b8-421b7c5542a6"
      },
      "execution_count": 8,
      "outputs": [
        {
          "output_type": "execute_result",
          "data": {
            "text/plain": [
              "species\n",
              "0    50\n",
              "1    50\n",
              "2    50\n",
              "Name: count, dtype: int64"
            ]
          },
          "metadata": {},
          "execution_count": 8
        }
      ]
    },
    {
      "cell_type": "code",
      "source": [
        "각 품종별로 데이터의 갯수가 동일하다."
      ],
      "metadata": {
        "id": "F3Ox2G4CXbMH"
      },
      "execution_count": null,
      "outputs": []
    },
    {
      "cell_type": "code",
      "source": [
        "# Fold별 데이터 분포"
      ],
      "metadata": {
        "id": "hMA44FwuXbzh"
      },
      "execution_count": null,
      "outputs": []
    },
    {
      "cell_type": "code",
      "source": [
        "cv = KFold(3)\n",
        "\n",
        "for i, (train_idx, test_idx) in enumerate(cv.split(iris_df)):\n",
        "    iris_train = iris_df.iloc[train_idx]\n",
        "    iris_test = iris_df.iloc[test_idx]\n",
        "\n",
        "    temp1 = iris_train[\"species\"].value_counts()\n",
        "    temp2 = iris_test[\"species\"].value_counts()\n",
        "    temp3 = pd.concat([temp1,temp2], axis=1).fillna(0).astype(int)\n",
        "    temp3.columns = [\"trian\",\"test\"]\n",
        "\n",
        "    print(f\"#교차 검증: {i+1}\")\n",
        "    print(temp3)"
      ],
      "metadata": {
        "colab": {
          "base_uri": "https://localhost:8080/"
        },
        "id": "3utiteNSXb2R",
        "outputId": "108f074a-0451-457b-beaa-4afb7287303e"
      },
      "execution_count": 9,
      "outputs": [
        {
          "output_type": "stream",
          "name": "stdout",
          "text": [
            "#교차 검증: 1\n",
            "         trian  test\n",
            "species             \n",
            "1           50     0\n",
            "2           50     0\n",
            "0            0    50\n",
            "#교차 검증: 2\n",
            "         trian  test\n",
            "species             \n",
            "0           50     0\n",
            "2           50     0\n",
            "1            0    50\n",
            "#교차 검증: 3\n",
            "         trian  test\n",
            "species             \n",
            "0           50     0\n",
            "1           50     0\n",
            "2            0    50\n"
          ]
        }
      ]
    },
    {
      "cell_type": "code",
      "source": [
        "첫 번째 교차 검증에서는 학습 데이터에 0이 1개도 없으며, 두 번째, 세 번째에는 각각 1,2가 없다.\n",
        "\n",
        "학습/검증 데이터가 위와 같이 분리되면 검증 예측 정확도는 0이 될 것이다."
      ],
      "metadata": {
        "id": "KcTi4BVQXb5H"
      },
      "execution_count": null,
      "outputs": []
    },
    {
      "cell_type": "markdown",
      "source": [
        "### 1.2.2 Stratifed K-Fold 교차검증"
      ],
      "metadata": {
        "id": "bQxU2dKvXmcg"
      }
    },
    {
      "cell_type": "code",
      "source": [
        "Stratifed K-Fold는 불균형한 분포를 가진 데이터 집합을 위한 K-Fold 방식으로 전체 데이터의 분포도를 반영해서 학습/검증 데이터를 나눈다."
      ],
      "metadata": {
        "id": "C7xpwJl2Xb7n"
      },
      "execution_count": null,
      "outputs": []
    },
    {
      "cell_type": "code",
      "source": [
        "from sklearn.model_selection import StratifiedKFold\n",
        "\n",
        "skf = StratifiedKFold(3)\n",
        "\n",
        "for i, (train_idx, test_idx) in enumerate(skf.split(iris_df, iris_df.species)):\n",
        "    iris_train = iris_df.iloc[train_idx]\n",
        "    iris_test = iris_df.iloc[test_idx]\n",
        "\n",
        "    temp1 = iris_train[\"species\"].value_counts()\n",
        "    temp2 = iris_test[\"species\"].value_counts()\n",
        "    temp3 = pd.concat([temp1,temp2], axis=1).fillna(0).astype(int)\n",
        "    temp3.columns = [\"trian\",\"test\"]\n",
        "\n",
        "    print(f\"#교차 검증: {i+1}\")\n",
        "    print(temp3)"
      ],
      "metadata": {
        "colab": {
          "base_uri": "https://localhost:8080/"
        },
        "id": "PfnDiqOVXtUP",
        "outputId": "0dc6b95b-954e-4ecb-a299-ae9bdf4e78fd"
      },
      "execution_count": 10,
      "outputs": [
        {
          "output_type": "stream",
          "name": "stdout",
          "text": [
            "#교차 검증: 1\n",
            "         trian  test\n",
            "species             \n",
            "2           34    16\n",
            "0           33    17\n",
            "1           33    17\n",
            "#교차 검증: 2\n",
            "         trian  test\n",
            "species             \n",
            "1           34    16\n",
            "0           33    17\n",
            "2           33    17\n",
            "#교차 검증: 3\n",
            "         trian  test\n",
            "species             \n",
            "0           34    16\n",
            "1           33    17\n",
            "2           33    17\n"
          ]
        }
      ]
    },
    {
      "cell_type": "code",
      "source": [
        "각 교차 검증에서 전체 데이터 분포와 같이 학습/검증 데이터가 나누어진 것을 확인할 수 있다."
      ],
      "metadata": {
        "id": "UcGrpJydXzB2"
      },
      "execution_count": null,
      "outputs": []
    },
    {
      "cell_type": "code",
      "source": [
        "# Stratifed K-Fold 교차 검증"
      ],
      "metadata": {
        "id": "z-hvNjavX1Iv"
      },
      "execution_count": null,
      "outputs": []
    },
    {
      "cell_type": "code",
      "source": [
        "cv_accuracy = []\n",
        "skf = StratifiedKFold(3)\n",
        "df_clf = DecisionTreeClassifier(random_state = 1017)\n",
        "\n",
        "for i, (train_idx, test_idx) in enumerate(skf.split(iris_df, iris_df.species)):\n",
        "    X_train, X_test = iris_X[train_idx], iris_X[test_idx]\n",
        "    y_train, y_test = iris_y[train_idx], iris_y[test_idx]\n",
        "\n",
        "    # 학습 및 예측\n",
        "    dt_clf.fit(X_train,y_train)\n",
        "    pred = dt_clf.predict(X_test)\n",
        "\n",
        "    # 평가: Accuracy\n",
        "    accuracy = accuracy_score(y_test,pred)\n",
        "    train_size = train_idx.shape[0]\n",
        "    test_size = test_idx.shape[0]\n",
        "\n",
        "    print(f\"#{i+1}. 학습 데이터 크기: {train_size}, 검증 데이터 크기: {test_size}, 검증 정확도: {accuracy:.3f}\")\n",
        "\n",
        "    cv_accuracy.append(accuracy)\n",
        "\n",
        "print(f\"## 평균 검증 정확도: {np.mean(cv_accuracy):.3f}\")"
      ],
      "metadata": {
        "colab": {
          "base_uri": "https://localhost:8080/"
        },
        "id": "Sw1aGx_KX38O",
        "outputId": "3707312d-b61f-44d8-aa46-07fddb54e6d2"
      },
      "execution_count": 11,
      "outputs": [
        {
          "output_type": "stream",
          "name": "stdout",
          "text": [
            "#1. 학습 데이터 크기: 100, 검증 데이터 크기: 50, 검증 정확도: 0.980\n",
            "#2. 학습 데이터 크기: 100, 검증 데이터 크기: 50, 검증 정확도: 0.940\n",
            "#3. 학습 데이터 크기: 100, 검증 데이터 크기: 50, 검증 정확도: 1.000\n",
            "## 평균 검증 정확도: 0.973\n"
          ]
        }
      ]
    },
    {
      "cell_type": "markdown",
      "source": [
        "### 1.2.3 cross_val_score"
      ],
      "metadata": {
        "id": "OUwi_tMkX5vG"
      }
    },
    {
      "cell_type": "code",
      "source": [
        "from sklearn.model_selection import cross_val_score\n",
        "\n",
        "dt_clf = DecisionTreeClassifier(random_state = 1017)\n",
        "\n",
        "scores = cross_val_score(dt_clf, iris_X, iris_y, scoring = \"accuracy\", cv=3)\n",
        "\n",
        "print(f\"# 검증 정확도: {np.round(scores,4)}\")\n",
        "print(f\"# 평균 검증 정확도: {np.mean(scores):.3f}\")"
      ],
      "metadata": {
        "colab": {
          "base_uri": "https://localhost:8080/"
        },
        "id": "Hi4B8yblX8_e",
        "outputId": "bd7267ee-e049-4526-8c1e-27c75f2495e4"
      },
      "execution_count": 12,
      "outputs": [
        {
          "output_type": "stream",
          "name": "stdout",
          "text": [
            "# 검증 정확도: [0.98 0.94 1.  ]\n",
            "# 평균 검증 정확도: 0.973\n"
          ]
        }
      ]
    },
    {
      "cell_type": "code",
      "source": [
        "cross_val_score()를 이용하여 교차 검증을 간편하게 작업할 수 있다.\n",
        "\n",
        "이때 cv옵션은 자동으로 Stratified K-Fold를 시행한다. (회귀는 종속변수가 연속형이므로 그냥 K-Fold)"
      ],
      "metadata": {
        "id": "3dxkU8gnYAOe"
      },
      "execution_count": null,
      "outputs": []
    },
    {
      "cell_type": "markdown",
      "source": [
        "### 1.2.4 GridSearchCV"
      ],
      "metadata": {
        "id": "mITGQSABYBk2"
      }
    },
    {
      "cell_type": "code",
      "source": [
        "GridSearchCV는 교차 검증과 최적 하이퍼 파라미터 튜닝을 한번에 작업한다."
      ],
      "metadata": {
        "id": "fWJghjqhYJbn"
      },
      "execution_count": null,
      "outputs": []
    },
    {
      "cell_type": "code",
      "source": [
        "from sklearn.model_selection import GridSearchCV\n",
        "\n",
        "X_train, X_test, y_train, y_test = train_test_split(iris_X, iris_y, test_size =0.2, random_state = 93)\n",
        "\n",
        "# 의사결정나무 객체 생성\n",
        "d_tree = DecisionTreeClassifier()\n",
        "\n",
        "# 하이퍼 파라미터\n",
        "parameters = {\"max_depth\": [1,2,3], \"min_samples_split\": [2,3]}\n",
        "\n",
        "grid_dtree = GridSearchCV(d_tree, param_grid = parameters, cv=3, refit=True)\n",
        "grid_dtree.fit(X_train, y_train)\n",
        "\n",
        "scores_df = pd.DataFrame(grid_dtree.cv_results_)\n",
        "scores_df[ [\"params\", \"mean_test_score\", \"rank_test_score\",\n",
        "            \"split0_test_score\", \"split1_test_score\", \"split2_test_score\"] ]"
      ],
      "metadata": {
        "colab": {
          "base_uri": "https://localhost:8080/",
          "height": 237
        },
        "id": "b8ncd7JgYLRX",
        "outputId": "3f448d34-6752-4773-ba0f-2589cef80634"
      },
      "execution_count": 13,
      "outputs": [
        {
          "output_type": "execute_result",
          "data": {
            "text/plain": [
              "                                     params  mean_test_score  rank_test_score  \\\n",
              "0  {'max_depth': 1, 'min_samples_split': 2}         0.675000                5   \n",
              "1  {'max_depth': 1, 'min_samples_split': 3}         0.675000                5   \n",
              "2  {'max_depth': 2, 'min_samples_split': 2}         0.925000                3   \n",
              "3  {'max_depth': 2, 'min_samples_split': 3}         0.925000                3   \n",
              "4  {'max_depth': 3, 'min_samples_split': 2}         0.933333                1   \n",
              "5  {'max_depth': 3, 'min_samples_split': 3}         0.933333                1   \n",
              "\n",
              "   split0_test_score  split1_test_score  split2_test_score  \n",
              "0              0.675              0.675              0.675  \n",
              "1              0.675              0.675              0.675  \n",
              "2              0.925              0.950              0.900  \n",
              "3              0.925              0.950              0.900  \n",
              "4              0.925              0.950              0.925  \n",
              "5              0.925              0.950              0.925  "
            ],
            "text/html": [
              "\n",
              "  <div id=\"df-62665c77-0f28-427e-a9db-681ce5fdd88f\" class=\"colab-df-container\">\n",
              "    <div>\n",
              "<style scoped>\n",
              "    .dataframe tbody tr th:only-of-type {\n",
              "        vertical-align: middle;\n",
              "    }\n",
              "\n",
              "    .dataframe tbody tr th {\n",
              "        vertical-align: top;\n",
              "    }\n",
              "\n",
              "    .dataframe thead th {\n",
              "        text-align: right;\n",
              "    }\n",
              "</style>\n",
              "<table border=\"1\" class=\"dataframe\">\n",
              "  <thead>\n",
              "    <tr style=\"text-align: right;\">\n",
              "      <th></th>\n",
              "      <th>params</th>\n",
              "      <th>mean_test_score</th>\n",
              "      <th>rank_test_score</th>\n",
              "      <th>split0_test_score</th>\n",
              "      <th>split1_test_score</th>\n",
              "      <th>split2_test_score</th>\n",
              "    </tr>\n",
              "  </thead>\n",
              "  <tbody>\n",
              "    <tr>\n",
              "      <th>0</th>\n",
              "      <td>{'max_depth': 1, 'min_samples_split': 2}</td>\n",
              "      <td>0.675000</td>\n",
              "      <td>5</td>\n",
              "      <td>0.675</td>\n",
              "      <td>0.675</td>\n",
              "      <td>0.675</td>\n",
              "    </tr>\n",
              "    <tr>\n",
              "      <th>1</th>\n",
              "      <td>{'max_depth': 1, 'min_samples_split': 3}</td>\n",
              "      <td>0.675000</td>\n",
              "      <td>5</td>\n",
              "      <td>0.675</td>\n",
              "      <td>0.675</td>\n",
              "      <td>0.675</td>\n",
              "    </tr>\n",
              "    <tr>\n",
              "      <th>2</th>\n",
              "      <td>{'max_depth': 2, 'min_samples_split': 2}</td>\n",
              "      <td>0.925000</td>\n",
              "      <td>3</td>\n",
              "      <td>0.925</td>\n",
              "      <td>0.950</td>\n",
              "      <td>0.900</td>\n",
              "    </tr>\n",
              "    <tr>\n",
              "      <th>3</th>\n",
              "      <td>{'max_depth': 2, 'min_samples_split': 3}</td>\n",
              "      <td>0.925000</td>\n",
              "      <td>3</td>\n",
              "      <td>0.925</td>\n",
              "      <td>0.950</td>\n",
              "      <td>0.900</td>\n",
              "    </tr>\n",
              "    <tr>\n",
              "      <th>4</th>\n",
              "      <td>{'max_depth': 3, 'min_samples_split': 2}</td>\n",
              "      <td>0.933333</td>\n",
              "      <td>1</td>\n",
              "      <td>0.925</td>\n",
              "      <td>0.950</td>\n",
              "      <td>0.925</td>\n",
              "    </tr>\n",
              "    <tr>\n",
              "      <th>5</th>\n",
              "      <td>{'max_depth': 3, 'min_samples_split': 3}</td>\n",
              "      <td>0.933333</td>\n",
              "      <td>1</td>\n",
              "      <td>0.925</td>\n",
              "      <td>0.950</td>\n",
              "      <td>0.925</td>\n",
              "    </tr>\n",
              "  </tbody>\n",
              "</table>\n",
              "</div>\n",
              "    <div class=\"colab-df-buttons\">\n",
              "\n",
              "  <div class=\"colab-df-container\">\n",
              "    <button class=\"colab-df-convert\" onclick=\"convertToInteractive('df-62665c77-0f28-427e-a9db-681ce5fdd88f')\"\n",
              "            title=\"Convert this dataframe to an interactive table.\"\n",
              "            style=\"display:none;\">\n",
              "\n",
              "  <svg xmlns=\"http://www.w3.org/2000/svg\" height=\"24px\" viewBox=\"0 -960 960 960\">\n",
              "    <path d=\"M120-120v-720h720v720H120Zm60-500h600v-160H180v160Zm220 220h160v-160H400v160Zm0 220h160v-160H400v160ZM180-400h160v-160H180v160Zm440 0h160v-160H620v160ZM180-180h160v-160H180v160Zm440 0h160v-160H620v160Z\"/>\n",
              "  </svg>\n",
              "    </button>\n",
              "\n",
              "  <style>\n",
              "    .colab-df-container {\n",
              "      display:flex;\n",
              "      gap: 12px;\n",
              "    }\n",
              "\n",
              "    .colab-df-convert {\n",
              "      background-color: #E8F0FE;\n",
              "      border: none;\n",
              "      border-radius: 50%;\n",
              "      cursor: pointer;\n",
              "      display: none;\n",
              "      fill: #1967D2;\n",
              "      height: 32px;\n",
              "      padding: 0 0 0 0;\n",
              "      width: 32px;\n",
              "    }\n",
              "\n",
              "    .colab-df-convert:hover {\n",
              "      background-color: #E2EBFA;\n",
              "      box-shadow: 0px 1px 2px rgba(60, 64, 67, 0.3), 0px 1px 3px 1px rgba(60, 64, 67, 0.15);\n",
              "      fill: #174EA6;\n",
              "    }\n",
              "\n",
              "    .colab-df-buttons div {\n",
              "      margin-bottom: 4px;\n",
              "    }\n",
              "\n",
              "    [theme=dark] .colab-df-convert {\n",
              "      background-color: #3B4455;\n",
              "      fill: #D2E3FC;\n",
              "    }\n",
              "\n",
              "    [theme=dark] .colab-df-convert:hover {\n",
              "      background-color: #434B5C;\n",
              "      box-shadow: 0px 1px 3px 1px rgba(0, 0, 0, 0.15);\n",
              "      filter: drop-shadow(0px 1px 2px rgba(0, 0, 0, 0.3));\n",
              "      fill: #FFFFFF;\n",
              "    }\n",
              "  </style>\n",
              "\n",
              "    <script>\n",
              "      const buttonEl =\n",
              "        document.querySelector('#df-62665c77-0f28-427e-a9db-681ce5fdd88f button.colab-df-convert');\n",
              "      buttonEl.style.display =\n",
              "        google.colab.kernel.accessAllowed ? 'block' : 'none';\n",
              "\n",
              "      async function convertToInteractive(key) {\n",
              "        const element = document.querySelector('#df-62665c77-0f28-427e-a9db-681ce5fdd88f');\n",
              "        const dataTable =\n",
              "          await google.colab.kernel.invokeFunction('convertToInteractive',\n",
              "                                                    [key], {});\n",
              "        if (!dataTable) return;\n",
              "\n",
              "        const docLinkHtml = 'Like what you see? Visit the ' +\n",
              "          '<a target=\"_blank\" href=https://colab.research.google.com/notebooks/data_table.ipynb>data table notebook</a>'\n",
              "          + ' to learn more about interactive tables.';\n",
              "        element.innerHTML = '';\n",
              "        dataTable['output_type'] = 'display_data';\n",
              "        await google.colab.output.renderOutput(dataTable, element);\n",
              "        const docLink = document.createElement('div');\n",
              "        docLink.innerHTML = docLinkHtml;\n",
              "        element.appendChild(docLink);\n",
              "      }\n",
              "    </script>\n",
              "  </div>\n",
              "\n",
              "\n",
              "<div id=\"df-a63c7c9a-8220-4764-abe0-868e62795663\">\n",
              "  <button class=\"colab-df-quickchart\" onclick=\"quickchart('df-a63c7c9a-8220-4764-abe0-868e62795663')\"\n",
              "            title=\"Suggest charts\"\n",
              "            style=\"display:none;\">\n",
              "\n",
              "<svg xmlns=\"http://www.w3.org/2000/svg\" height=\"24px\"viewBox=\"0 0 24 24\"\n",
              "     width=\"24px\">\n",
              "    <g>\n",
              "        <path d=\"M19 3H5c-1.1 0-2 .9-2 2v14c0 1.1.9 2 2 2h14c1.1 0 2-.9 2-2V5c0-1.1-.9-2-2-2zM9 17H7v-7h2v7zm4 0h-2V7h2v10zm4 0h-2v-4h2v4z\"/>\n",
              "    </g>\n",
              "</svg>\n",
              "  </button>\n",
              "\n",
              "<style>\n",
              "  .colab-df-quickchart {\n",
              "      --bg-color: #E8F0FE;\n",
              "      --fill-color: #1967D2;\n",
              "      --hover-bg-color: #E2EBFA;\n",
              "      --hover-fill-color: #174EA6;\n",
              "      --disabled-fill-color: #AAA;\n",
              "      --disabled-bg-color: #DDD;\n",
              "  }\n",
              "\n",
              "  [theme=dark] .colab-df-quickchart {\n",
              "      --bg-color: #3B4455;\n",
              "      --fill-color: #D2E3FC;\n",
              "      --hover-bg-color: #434B5C;\n",
              "      --hover-fill-color: #FFFFFF;\n",
              "      --disabled-bg-color: #3B4455;\n",
              "      --disabled-fill-color: #666;\n",
              "  }\n",
              "\n",
              "  .colab-df-quickchart {\n",
              "    background-color: var(--bg-color);\n",
              "    border: none;\n",
              "    border-radius: 50%;\n",
              "    cursor: pointer;\n",
              "    display: none;\n",
              "    fill: var(--fill-color);\n",
              "    height: 32px;\n",
              "    padding: 0;\n",
              "    width: 32px;\n",
              "  }\n",
              "\n",
              "  .colab-df-quickchart:hover {\n",
              "    background-color: var(--hover-bg-color);\n",
              "    box-shadow: 0 1px 2px rgba(60, 64, 67, 0.3), 0 1px 3px 1px rgba(60, 64, 67, 0.15);\n",
              "    fill: var(--button-hover-fill-color);\n",
              "  }\n",
              "\n",
              "  .colab-df-quickchart-complete:disabled,\n",
              "  .colab-df-quickchart-complete:disabled:hover {\n",
              "    background-color: var(--disabled-bg-color);\n",
              "    fill: var(--disabled-fill-color);\n",
              "    box-shadow: none;\n",
              "  }\n",
              "\n",
              "  .colab-df-spinner {\n",
              "    border: 2px solid var(--fill-color);\n",
              "    border-color: transparent;\n",
              "    border-bottom-color: var(--fill-color);\n",
              "    animation:\n",
              "      spin 1s steps(1) infinite;\n",
              "  }\n",
              "\n",
              "  @keyframes spin {\n",
              "    0% {\n",
              "      border-color: transparent;\n",
              "      border-bottom-color: var(--fill-color);\n",
              "      border-left-color: var(--fill-color);\n",
              "    }\n",
              "    20% {\n",
              "      border-color: transparent;\n",
              "      border-left-color: var(--fill-color);\n",
              "      border-top-color: var(--fill-color);\n",
              "    }\n",
              "    30% {\n",
              "      border-color: transparent;\n",
              "      border-left-color: var(--fill-color);\n",
              "      border-top-color: var(--fill-color);\n",
              "      border-right-color: var(--fill-color);\n",
              "    }\n",
              "    40% {\n",
              "      border-color: transparent;\n",
              "      border-right-color: var(--fill-color);\n",
              "      border-top-color: var(--fill-color);\n",
              "    }\n",
              "    60% {\n",
              "      border-color: transparent;\n",
              "      border-right-color: var(--fill-color);\n",
              "    }\n",
              "    80% {\n",
              "      border-color: transparent;\n",
              "      border-right-color: var(--fill-color);\n",
              "      border-bottom-color: var(--fill-color);\n",
              "    }\n",
              "    90% {\n",
              "      border-color: transparent;\n",
              "      border-bottom-color: var(--fill-color);\n",
              "    }\n",
              "  }\n",
              "</style>\n",
              "\n",
              "  <script>\n",
              "    async function quickchart(key) {\n",
              "      const quickchartButtonEl =\n",
              "        document.querySelector('#' + key + ' button');\n",
              "      quickchartButtonEl.disabled = true;  // To prevent multiple clicks.\n",
              "      quickchartButtonEl.classList.add('colab-df-spinner');\n",
              "      try {\n",
              "        const charts = await google.colab.kernel.invokeFunction(\n",
              "            'suggestCharts', [key], {});\n",
              "      } catch (error) {\n",
              "        console.error('Error during call to suggestCharts:', error);\n",
              "      }\n",
              "      quickchartButtonEl.classList.remove('colab-df-spinner');\n",
              "      quickchartButtonEl.classList.add('colab-df-quickchart-complete');\n",
              "    }\n",
              "    (() => {\n",
              "      let quickchartButtonEl =\n",
              "        document.querySelector('#df-a63c7c9a-8220-4764-abe0-868e62795663 button');\n",
              "      quickchartButtonEl.style.display =\n",
              "        google.colab.kernel.accessAllowed ? 'block' : 'none';\n",
              "    })();\n",
              "  </script>\n",
              "</div>\n",
              "\n",
              "    </div>\n",
              "  </div>\n"
            ],
            "application/vnd.google.colaboratory.intrinsic+json": {
              "type": "dataframe",
              "summary": "{\n  \"name\": \"            \\\"split0_test_score\\\", \\\"split1_test_score\\\", \\\"split2_test_score\\\"] ]\",\n  \"rows\": 6,\n  \"fields\": [\n    {\n      \"column\": \"params\",\n      \"properties\": {\n        \"dtype\": \"object\",\n        \"semantic_type\": \"\",\n        \"description\": \"\"\n      }\n    },\n    {\n      \"column\": \"mean_test_score\",\n      \"properties\": {\n        \"dtype\": \"number\",\n        \"std\": 0.1313040012365987,\n        \"min\": 0.6750000000000002,\n        \"max\": 0.9333333333333332,\n        \"num_unique_values\": 3,\n        \"samples\": [\n          0.6750000000000002,\n          0.9249999999999999,\n          0.9333333333333332\n        ],\n        \"semantic_type\": \"\",\n        \"description\": \"\"\n      }\n    },\n    {\n      \"column\": \"rank_test_score\",\n      \"properties\": {\n        \"dtype\": \"int32\",\n        \"num_unique_values\": 3,\n        \"samples\": [\n          5,\n          3,\n          1\n        ],\n        \"semantic_type\": \"\",\n        \"description\": \"\"\n      }\n    },\n    {\n      \"column\": \"split0_test_score\",\n      \"properties\": {\n        \"dtype\": \"number\",\n        \"std\": 0.12909944487358055,\n        \"min\": 0.675,\n        \"max\": 0.925,\n        \"num_unique_values\": 2,\n        \"samples\": [\n          0.925,\n          0.675\n        ],\n        \"semantic_type\": \"\",\n        \"description\": \"\"\n      }\n    },\n    {\n      \"column\": \"split1_test_score\",\n      \"properties\": {\n        \"dtype\": \"number\",\n        \"std\": 0.14200938936093857,\n        \"min\": 0.675,\n        \"max\": 0.95,\n        \"num_unique_values\": 2,\n        \"samples\": [\n          0.95,\n          0.675\n        ],\n        \"semantic_type\": \"\",\n        \"description\": \"\"\n      }\n    },\n    {\n      \"column\": \"split2_test_score\",\n      \"properties\": {\n        \"dtype\": \"number\",\n        \"std\": 0.12315302134607443,\n        \"min\": 0.675,\n        \"max\": 0.925,\n        \"num_unique_values\": 3,\n        \"samples\": [\n          0.675,\n          0.9\n        ],\n        \"semantic_type\": \"\",\n        \"description\": \"\"\n      }\n    }\n  ]\n}"
            }
          },
          "metadata": {},
          "execution_count": 13
        }
      ]
    },
    {
      "cell_type": "code",
      "source": [
        "refit=True: 최적의 하이퍼 파라미터를 찾은 뒤 입력된 estimator 객체를 해당 하이퍼 파라미터로 재학습\n",
        "\n",
        "cv_results_: 하이퍼 파라미터 경우의 수, 평균 검증정확도(성능지표는 바꿀 수 있음), 예측 성능순위, 각 Fold별 검증정확도 등을 확인 가능"
      ],
      "metadata": {
        "id": "HMS4WsvYYNTG"
      },
      "execution_count": null,
      "outputs": []
    },
    {
      "cell_type": "code",
      "source": [
        "print(\"GridSearchCV 최적 파라미터:\", grid_dtree.best_params_)\n",
        "print(\"GridSearchCV 최고 정확도:\", grid_dtree.best_score_.round(4))"
      ],
      "metadata": {
        "colab": {
          "base_uri": "https://localhost:8080/"
        },
        "id": "ZsQbO8zJYO8f",
        "outputId": "66b69ca7-bca9-4947-a062-4648648af72b"
      },
      "execution_count": 14,
      "outputs": [
        {
          "output_type": "stream",
          "name": "stdout",
          "text": [
            "GridSearchCV 최적 파라미터: {'max_depth': 3, 'min_samples_split': 2}\n",
            "GridSearchCV 최고 정확도: 0.9333\n"
          ]
        }
      ]
    },
    {
      "cell_type": "code",
      "source": [
        "예측 성능순위가 1위인 최적 하이퍼 파라미터 및 최고 정확도를 확인 가능"
      ],
      "metadata": {
        "id": "XQzKB1oFYQkH"
      },
      "execution_count": null,
      "outputs": []
    },
    {
      "cell_type": "code",
      "source": [
        "# gridsearchcv refit으로 이미 학습된 estimator 반환\n",
        "estimator = grid_dtree.best_estimator_\n",
        "\n",
        "# gridsearchcv의 best_estimator_는 이미 최적 학습되어으므로 별도 학습이 필요 없음\n",
        "pred = estimator.predict(X_test)\n",
        "acc = accuracy_score(y_test,pred)\n",
        "\n",
        "print(f\"검증 데이터 세트 정확도: {acc:.4f}\")"
      ],
      "metadata": {
        "colab": {
          "base_uri": "https://localhost:8080/"
        },
        "id": "dSfT9oWPYTsu",
        "outputId": "65a865a7-7b8f-4c71-831b-fdd83dea2848"
      },
      "execution_count": 15,
      "outputs": [
        {
          "output_type": "stream",
          "name": "stdout",
          "text": [
            "검증 데이터 세트 정확도: 0.9667\n"
          ]
        }
      ]
    },
    {
      "cell_type": "markdown",
      "source": [
        "## 1.3 데이터 전처리"
      ],
      "metadata": {
        "id": "zmVatop4YWen"
      }
    },
    {
      "cell_type": "markdown",
      "source": [
        "### 1.3.1 레이블 인코딩"
      ],
      "metadata": {
        "id": "y7f6tSpAYZld"
      }
    },
    {
      "cell_type": "code",
      "source": [
        "문자형 변수를 숫자형으로 변환"
      ],
      "metadata": {
        "id": "QO8KIuZUYcmm"
      },
      "execution_count": null,
      "outputs": []
    },
    {
      "cell_type": "code",
      "source": [
        "from sklearn.preprocessing import LabelEncoder\n",
        "\n",
        "items = [\"TV\", \"냉장고\", \"전자레인지\", \"컴퓨터\", \"선풍기\", \"선풍기\", \"믹서\", \"믹서\"]\n",
        "\n",
        "encoder = LabelEncoder()\n",
        "encoder.fit(items)\n",
        "lables = encoder.transform(items)\n",
        "\n",
        "print(f\"인코딩 변환값: {lables}\")\n",
        "print(\"인코딩 클래스:\", encoder.classes_)\n",
        "print(\"디코딩 원본값:\", encoder.inverse_transform([0,0,1,4,3,2]))"
      ],
      "metadata": {
        "colab": {
          "base_uri": "https://localhost:8080/"
        },
        "id": "8gWHmOvOYfsm",
        "outputId": "c17cf135-3d3b-42ed-970c-8f380aa6f4b7"
      },
      "execution_count": 16,
      "outputs": [
        {
          "output_type": "stream",
          "name": "stdout",
          "text": [
            "인코딩 변환값: [0 1 4 5 3 3 2 2]\n",
            "인코딩 클래스: ['TV' '냉장고' '믹서' '선풍기' '전자레인지' '컴퓨터']\n",
            "디코딩 원본값: ['TV' 'TV' '냉장고' '전자레인지' '선풍기' '믹서']\n"
          ]
        }
      ]
    },
    {
      "cell_type": "markdown",
      "source": [
        "### 1.3.2 원-핫 인코딩"
      ],
      "metadata": {
        "id": "uNRIxftUYjoe"
      }
    },
    {
      "cell_type": "code",
      "source": [
        "문자열 변수를 숫자형으로 변환하며 풀랭크 형식으로 변환한다.\n",
        "\n",
        "다만 기존 모든 문자열 값이 숫자형 값으로 변환되어야하며 2차원 데이터여야한다."
      ],
      "metadata": {
        "id": "Hr1fyjlGYfwx"
      },
      "execution_count": null,
      "outputs": []
    },
    {
      "cell_type": "code",
      "source": [
        "from sklearn.preprocessing import OneHotEncoder\n",
        "\n",
        "items = [\"TV\", \"냉장고\", \"전자레인지\", \"컴퓨터\", \"선풍기\", \"선풍기\", \"믹서\", \"믹서\"]\n",
        "\n",
        "# 숫자형 + 2차원 만들어주기\n",
        "encoder = LabelEncoder()\n",
        "encoder.fit(items)\n",
        "lables = encoder.transform(items).reshape(-1,1)\n",
        "\n",
        "# One-Hot\n",
        "oh_encoder = OneHotEncoder()\n",
        "oh_encoder.fit(lables)\n",
        "oh_lables = oh_encoder.transform(lables)\n",
        "\n",
        "print(\"원-핫 인코딩 데이터\")\n",
        "print(oh_lables.toarray())\n",
        "print(\"원-핫 인코딩 데이터 차원:\", oh_lables.shape)"
      ],
      "metadata": {
        "colab": {
          "base_uri": "https://localhost:8080/"
        },
        "id": "kZom_IO1Yf0e",
        "outputId": "132cc80e-9468-4d37-898e-7ac5666348c0"
      },
      "execution_count": 18,
      "outputs": [
        {
          "output_type": "stream",
          "name": "stdout",
          "text": [
            "원-핫 인코딩 데이터\n",
            "[[1. 0. 0. 0. 0. 0.]\n",
            " [0. 1. 0. 0. 0. 0.]\n",
            " [0. 0. 0. 0. 1. 0.]\n",
            " [0. 0. 0. 0. 0. 1.]\n",
            " [0. 0. 0. 1. 0. 0.]\n",
            " [0. 0. 0. 1. 0. 0.]\n",
            " [0. 0. 1. 0. 0. 0.]\n",
            " [0. 0. 1. 0. 0. 0.]]\n",
            "원-핫 인코딩 데이터 차원: (8, 6)\n"
          ]
        }
      ]
    },
    {
      "cell_type": "code",
      "source": [
        "# Pandas 원-핫 인코딩"
      ],
      "metadata": {
        "id": "S1OHRM2HYueO"
      },
      "execution_count": null,
      "outputs": []
    },
    {
      "cell_type": "code",
      "source": [
        "df = pd.DataFrame(items, columns = [\"Item\"])\n",
        "pd.get_dummies(df)"
      ],
      "metadata": {
        "colab": {
          "base_uri": "https://localhost:8080/",
          "height": 300
        },
        "id": "Lf3YYouqYo0i",
        "outputId": "eb144983-e8b2-4317-9ac3-b68b85c42d06"
      },
      "execution_count": 19,
      "outputs": [
        {
          "output_type": "execute_result",
          "data": {
            "text/plain": [
              "   Item_TV  Item_냉장고  Item_믹서  Item_선풍기  Item_전자레인지  Item_컴퓨터\n",
              "0     True     False    False     False       False     False\n",
              "1    False      True    False     False       False     False\n",
              "2    False     False    False     False        True     False\n",
              "3    False     False    False     False       False      True\n",
              "4    False     False    False      True       False     False\n",
              "5    False     False    False      True       False     False\n",
              "6    False     False     True     False       False     False\n",
              "7    False     False     True     False       False     False"
            ],
            "text/html": [
              "\n",
              "  <div id=\"df-e19a8fd7-47f0-440a-8b16-e96f41482134\" class=\"colab-df-container\">\n",
              "    <div>\n",
              "<style scoped>\n",
              "    .dataframe tbody tr th:only-of-type {\n",
              "        vertical-align: middle;\n",
              "    }\n",
              "\n",
              "    .dataframe tbody tr th {\n",
              "        vertical-align: top;\n",
              "    }\n",
              "\n",
              "    .dataframe thead th {\n",
              "        text-align: right;\n",
              "    }\n",
              "</style>\n",
              "<table border=\"1\" class=\"dataframe\">\n",
              "  <thead>\n",
              "    <tr style=\"text-align: right;\">\n",
              "      <th></th>\n",
              "      <th>Item_TV</th>\n",
              "      <th>Item_냉장고</th>\n",
              "      <th>Item_믹서</th>\n",
              "      <th>Item_선풍기</th>\n",
              "      <th>Item_전자레인지</th>\n",
              "      <th>Item_컴퓨터</th>\n",
              "    </tr>\n",
              "  </thead>\n",
              "  <tbody>\n",
              "    <tr>\n",
              "      <th>0</th>\n",
              "      <td>True</td>\n",
              "      <td>False</td>\n",
              "      <td>False</td>\n",
              "      <td>False</td>\n",
              "      <td>False</td>\n",
              "      <td>False</td>\n",
              "    </tr>\n",
              "    <tr>\n",
              "      <th>1</th>\n",
              "      <td>False</td>\n",
              "      <td>True</td>\n",
              "      <td>False</td>\n",
              "      <td>False</td>\n",
              "      <td>False</td>\n",
              "      <td>False</td>\n",
              "    </tr>\n",
              "    <tr>\n",
              "      <th>2</th>\n",
              "      <td>False</td>\n",
              "      <td>False</td>\n",
              "      <td>False</td>\n",
              "      <td>False</td>\n",
              "      <td>True</td>\n",
              "      <td>False</td>\n",
              "    </tr>\n",
              "    <tr>\n",
              "      <th>3</th>\n",
              "      <td>False</td>\n",
              "      <td>False</td>\n",
              "      <td>False</td>\n",
              "      <td>False</td>\n",
              "      <td>False</td>\n",
              "      <td>True</td>\n",
              "    </tr>\n",
              "    <tr>\n",
              "      <th>4</th>\n",
              "      <td>False</td>\n",
              "      <td>False</td>\n",
              "      <td>False</td>\n",
              "      <td>True</td>\n",
              "      <td>False</td>\n",
              "      <td>False</td>\n",
              "    </tr>\n",
              "    <tr>\n",
              "      <th>5</th>\n",
              "      <td>False</td>\n",
              "      <td>False</td>\n",
              "      <td>False</td>\n",
              "      <td>True</td>\n",
              "      <td>False</td>\n",
              "      <td>False</td>\n",
              "    </tr>\n",
              "    <tr>\n",
              "      <th>6</th>\n",
              "      <td>False</td>\n",
              "      <td>False</td>\n",
              "      <td>True</td>\n",
              "      <td>False</td>\n",
              "      <td>False</td>\n",
              "      <td>False</td>\n",
              "    </tr>\n",
              "    <tr>\n",
              "      <th>7</th>\n",
              "      <td>False</td>\n",
              "      <td>False</td>\n",
              "      <td>True</td>\n",
              "      <td>False</td>\n",
              "      <td>False</td>\n",
              "      <td>False</td>\n",
              "    </tr>\n",
              "  </tbody>\n",
              "</table>\n",
              "</div>\n",
              "    <div class=\"colab-df-buttons\">\n",
              "\n",
              "  <div class=\"colab-df-container\">\n",
              "    <button class=\"colab-df-convert\" onclick=\"convertToInteractive('df-e19a8fd7-47f0-440a-8b16-e96f41482134')\"\n",
              "            title=\"Convert this dataframe to an interactive table.\"\n",
              "            style=\"display:none;\">\n",
              "\n",
              "  <svg xmlns=\"http://www.w3.org/2000/svg\" height=\"24px\" viewBox=\"0 -960 960 960\">\n",
              "    <path d=\"M120-120v-720h720v720H120Zm60-500h600v-160H180v160Zm220 220h160v-160H400v160Zm0 220h160v-160H400v160ZM180-400h160v-160H180v160Zm440 0h160v-160H620v160ZM180-180h160v-160H180v160Zm440 0h160v-160H620v160Z\"/>\n",
              "  </svg>\n",
              "    </button>\n",
              "\n",
              "  <style>\n",
              "    .colab-df-container {\n",
              "      display:flex;\n",
              "      gap: 12px;\n",
              "    }\n",
              "\n",
              "    .colab-df-convert {\n",
              "      background-color: #E8F0FE;\n",
              "      border: none;\n",
              "      border-radius: 50%;\n",
              "      cursor: pointer;\n",
              "      display: none;\n",
              "      fill: #1967D2;\n",
              "      height: 32px;\n",
              "      padding: 0 0 0 0;\n",
              "      width: 32px;\n",
              "    }\n",
              "\n",
              "    .colab-df-convert:hover {\n",
              "      background-color: #E2EBFA;\n",
              "      box-shadow: 0px 1px 2px rgba(60, 64, 67, 0.3), 0px 1px 3px 1px rgba(60, 64, 67, 0.15);\n",
              "      fill: #174EA6;\n",
              "    }\n",
              "\n",
              "    .colab-df-buttons div {\n",
              "      margin-bottom: 4px;\n",
              "    }\n",
              "\n",
              "    [theme=dark] .colab-df-convert {\n",
              "      background-color: #3B4455;\n",
              "      fill: #D2E3FC;\n",
              "    }\n",
              "\n",
              "    [theme=dark] .colab-df-convert:hover {\n",
              "      background-color: #434B5C;\n",
              "      box-shadow: 0px 1px 3px 1px rgba(0, 0, 0, 0.15);\n",
              "      filter: drop-shadow(0px 1px 2px rgba(0, 0, 0, 0.3));\n",
              "      fill: #FFFFFF;\n",
              "    }\n",
              "  </style>\n",
              "\n",
              "    <script>\n",
              "      const buttonEl =\n",
              "        document.querySelector('#df-e19a8fd7-47f0-440a-8b16-e96f41482134 button.colab-df-convert');\n",
              "      buttonEl.style.display =\n",
              "        google.colab.kernel.accessAllowed ? 'block' : 'none';\n",
              "\n",
              "      async function convertToInteractive(key) {\n",
              "        const element = document.querySelector('#df-e19a8fd7-47f0-440a-8b16-e96f41482134');\n",
              "        const dataTable =\n",
              "          await google.colab.kernel.invokeFunction('convertToInteractive',\n",
              "                                                    [key], {});\n",
              "        if (!dataTable) return;\n",
              "\n",
              "        const docLinkHtml = 'Like what you see? Visit the ' +\n",
              "          '<a target=\"_blank\" href=https://colab.research.google.com/notebooks/data_table.ipynb>data table notebook</a>'\n",
              "          + ' to learn more about interactive tables.';\n",
              "        element.innerHTML = '';\n",
              "        dataTable['output_type'] = 'display_data';\n",
              "        await google.colab.output.renderOutput(dataTable, element);\n",
              "        const docLink = document.createElement('div');\n",
              "        docLink.innerHTML = docLinkHtml;\n",
              "        element.appendChild(docLink);\n",
              "      }\n",
              "    </script>\n",
              "  </div>\n",
              "\n",
              "\n",
              "<div id=\"df-f020189e-07bd-4ece-85ba-0441c834be97\">\n",
              "  <button class=\"colab-df-quickchart\" onclick=\"quickchart('df-f020189e-07bd-4ece-85ba-0441c834be97')\"\n",
              "            title=\"Suggest charts\"\n",
              "            style=\"display:none;\">\n",
              "\n",
              "<svg xmlns=\"http://www.w3.org/2000/svg\" height=\"24px\"viewBox=\"0 0 24 24\"\n",
              "     width=\"24px\">\n",
              "    <g>\n",
              "        <path d=\"M19 3H5c-1.1 0-2 .9-2 2v14c0 1.1.9 2 2 2h14c1.1 0 2-.9 2-2V5c0-1.1-.9-2-2-2zM9 17H7v-7h2v7zm4 0h-2V7h2v10zm4 0h-2v-4h2v4z\"/>\n",
              "    </g>\n",
              "</svg>\n",
              "  </button>\n",
              "\n",
              "<style>\n",
              "  .colab-df-quickchart {\n",
              "      --bg-color: #E8F0FE;\n",
              "      --fill-color: #1967D2;\n",
              "      --hover-bg-color: #E2EBFA;\n",
              "      --hover-fill-color: #174EA6;\n",
              "      --disabled-fill-color: #AAA;\n",
              "      --disabled-bg-color: #DDD;\n",
              "  }\n",
              "\n",
              "  [theme=dark] .colab-df-quickchart {\n",
              "      --bg-color: #3B4455;\n",
              "      --fill-color: #D2E3FC;\n",
              "      --hover-bg-color: #434B5C;\n",
              "      --hover-fill-color: #FFFFFF;\n",
              "      --disabled-bg-color: #3B4455;\n",
              "      --disabled-fill-color: #666;\n",
              "  }\n",
              "\n",
              "  .colab-df-quickchart {\n",
              "    background-color: var(--bg-color);\n",
              "    border: none;\n",
              "    border-radius: 50%;\n",
              "    cursor: pointer;\n",
              "    display: none;\n",
              "    fill: var(--fill-color);\n",
              "    height: 32px;\n",
              "    padding: 0;\n",
              "    width: 32px;\n",
              "  }\n",
              "\n",
              "  .colab-df-quickchart:hover {\n",
              "    background-color: var(--hover-bg-color);\n",
              "    box-shadow: 0 1px 2px rgba(60, 64, 67, 0.3), 0 1px 3px 1px rgba(60, 64, 67, 0.15);\n",
              "    fill: var(--button-hover-fill-color);\n",
              "  }\n",
              "\n",
              "  .colab-df-quickchart-complete:disabled,\n",
              "  .colab-df-quickchart-complete:disabled:hover {\n",
              "    background-color: var(--disabled-bg-color);\n",
              "    fill: var(--disabled-fill-color);\n",
              "    box-shadow: none;\n",
              "  }\n",
              "\n",
              "  .colab-df-spinner {\n",
              "    border: 2px solid var(--fill-color);\n",
              "    border-color: transparent;\n",
              "    border-bottom-color: var(--fill-color);\n",
              "    animation:\n",
              "      spin 1s steps(1) infinite;\n",
              "  }\n",
              "\n",
              "  @keyframes spin {\n",
              "    0% {\n",
              "      border-color: transparent;\n",
              "      border-bottom-color: var(--fill-color);\n",
              "      border-left-color: var(--fill-color);\n",
              "    }\n",
              "    20% {\n",
              "      border-color: transparent;\n",
              "      border-left-color: var(--fill-color);\n",
              "      border-top-color: var(--fill-color);\n",
              "    }\n",
              "    30% {\n",
              "      border-color: transparent;\n",
              "      border-left-color: var(--fill-color);\n",
              "      border-top-color: var(--fill-color);\n",
              "      border-right-color: var(--fill-color);\n",
              "    }\n",
              "    40% {\n",
              "      border-color: transparent;\n",
              "      border-right-color: var(--fill-color);\n",
              "      border-top-color: var(--fill-color);\n",
              "    }\n",
              "    60% {\n",
              "      border-color: transparent;\n",
              "      border-right-color: var(--fill-color);\n",
              "    }\n",
              "    80% {\n",
              "      border-color: transparent;\n",
              "      border-right-color: var(--fill-color);\n",
              "      border-bottom-color: var(--fill-color);\n",
              "    }\n",
              "    90% {\n",
              "      border-color: transparent;\n",
              "      border-bottom-color: var(--fill-color);\n",
              "    }\n",
              "  }\n",
              "</style>\n",
              "\n",
              "  <script>\n",
              "    async function quickchart(key) {\n",
              "      const quickchartButtonEl =\n",
              "        document.querySelector('#' + key + ' button');\n",
              "      quickchartButtonEl.disabled = true;  // To prevent multiple clicks.\n",
              "      quickchartButtonEl.classList.add('colab-df-spinner');\n",
              "      try {\n",
              "        const charts = await google.colab.kernel.invokeFunction(\n",
              "            'suggestCharts', [key], {});\n",
              "      } catch (error) {\n",
              "        console.error('Error during call to suggestCharts:', error);\n",
              "      }\n",
              "      quickchartButtonEl.classList.remove('colab-df-spinner');\n",
              "      quickchartButtonEl.classList.add('colab-df-quickchart-complete');\n",
              "    }\n",
              "    (() => {\n",
              "      let quickchartButtonEl =\n",
              "        document.querySelector('#df-f020189e-07bd-4ece-85ba-0441c834be97 button');\n",
              "      quickchartButtonEl.style.display =\n",
              "        google.colab.kernel.accessAllowed ? 'block' : 'none';\n",
              "    })();\n",
              "  </script>\n",
              "</div>\n",
              "\n",
              "    </div>\n",
              "  </div>\n"
            ],
            "application/vnd.google.colaboratory.intrinsic+json": {
              "type": "dataframe",
              "summary": "{\n  \"name\": \"pd\",\n  \"rows\": 8,\n  \"fields\": [\n    {\n      \"column\": \"Item_TV\",\n      \"properties\": {\n        \"dtype\": \"boolean\",\n        \"num_unique_values\": 2,\n        \"samples\": [\n          false,\n          true\n        ],\n        \"semantic_type\": \"\",\n        \"description\": \"\"\n      }\n    },\n    {\n      \"column\": \"Item_\\ub0c9\\uc7a5\\uace0\",\n      \"properties\": {\n        \"dtype\": \"boolean\",\n        \"num_unique_values\": 2,\n        \"samples\": [\n          true,\n          false\n        ],\n        \"semantic_type\": \"\",\n        \"description\": \"\"\n      }\n    },\n    {\n      \"column\": \"Item_\\ubbf9\\uc11c\",\n      \"properties\": {\n        \"dtype\": \"boolean\",\n        \"num_unique_values\": 2,\n        \"samples\": [\n          true,\n          false\n        ],\n        \"semantic_type\": \"\",\n        \"description\": \"\"\n      }\n    },\n    {\n      \"column\": \"Item_\\uc120\\ud48d\\uae30\",\n      \"properties\": {\n        \"dtype\": \"boolean\",\n        \"num_unique_values\": 2,\n        \"samples\": [\n          true,\n          false\n        ],\n        \"semantic_type\": \"\",\n        \"description\": \"\"\n      }\n    },\n    {\n      \"column\": \"Item_\\uc804\\uc790\\ub808\\uc778\\uc9c0\",\n      \"properties\": {\n        \"dtype\": \"boolean\",\n        \"num_unique_values\": 2,\n        \"samples\": [\n          true,\n          false\n        ],\n        \"semantic_type\": \"\",\n        \"description\": \"\"\n      }\n    },\n    {\n      \"column\": \"Item_\\ucef4\\ud4e8\\ud130\",\n      \"properties\": {\n        \"dtype\": \"boolean\",\n        \"num_unique_values\": 2,\n        \"samples\": [\n          true,\n          false\n        ],\n        \"semantic_type\": \"\",\n        \"description\": \"\"\n      }\n    }\n  ]\n}"
            }
          },
          "metadata": {},
          "execution_count": 19
        }
      ]
    },
    {
      "cell_type": "code",
      "source": [
        "pd.get_dummies()를 이용하여 보다 쉽게 원-핫 인코딩이 가능하다."
      ],
      "metadata": {
        "id": "VjkioDvDY0y2"
      },
      "execution_count": null,
      "outputs": []
    },
    {
      "cell_type": "markdown",
      "source": [
        "### 1.3.3 피처 스케일링"
      ],
      "metadata": {
        "id": "pF6uRiVOZa02"
      }
    },
    {
      "cell_type": "code",
      "source": [
        "# 피처 스케일링 - 표준화"
      ],
      "metadata": {
        "id": "odayyftrZZ7m"
      },
      "execution_count": null,
      "outputs": []
    },
    {
      "cell_type": "code",
      "source": [
        "from sklearn.preprocessing import StandardScaler\n",
        "\n",
        "scaler = StandardScaler()\n",
        "scaler.fit(iris_df)\n",
        "iris_scaled = scaler.transform(iris_df)\n",
        "\n",
        "iris_scaled_df = pd.DataFrame(iris_scaled, columns = iris_df.columns)\n",
        "iris_scaled_df.head(5)"
      ],
      "metadata": {
        "colab": {
          "base_uri": "https://localhost:8080/",
          "height": 206
        },
        "id": "7LAeV-v_Ze-2",
        "outputId": "96c84872-5f8d-4a24-bb71-d796ca49f680"
      },
      "execution_count": 20,
      "outputs": [
        {
          "output_type": "execute_result",
          "data": {
            "text/plain": [
              "   sepal length (cm)  sepal width (cm)  petal length (cm)  petal width (cm)  \\\n",
              "0          -0.900681          1.019004          -1.340227         -1.315444   \n",
              "1          -1.143017         -0.131979          -1.340227         -1.315444   \n",
              "2          -1.385353          0.328414          -1.397064         -1.315444   \n",
              "3          -1.506521          0.098217          -1.283389         -1.315444   \n",
              "4          -1.021849          1.249201          -1.340227         -1.315444   \n",
              "\n",
              "    species  \n",
              "0 -1.224745  \n",
              "1 -1.224745  \n",
              "2 -1.224745  \n",
              "3 -1.224745  \n",
              "4 -1.224745  "
            ],
            "text/html": [
              "\n",
              "  <div id=\"df-b932641c-ebc2-4e5f-904b-96684840f934\" class=\"colab-df-container\">\n",
              "    <div>\n",
              "<style scoped>\n",
              "    .dataframe tbody tr th:only-of-type {\n",
              "        vertical-align: middle;\n",
              "    }\n",
              "\n",
              "    .dataframe tbody tr th {\n",
              "        vertical-align: top;\n",
              "    }\n",
              "\n",
              "    .dataframe thead th {\n",
              "        text-align: right;\n",
              "    }\n",
              "</style>\n",
              "<table border=\"1\" class=\"dataframe\">\n",
              "  <thead>\n",
              "    <tr style=\"text-align: right;\">\n",
              "      <th></th>\n",
              "      <th>sepal length (cm)</th>\n",
              "      <th>sepal width (cm)</th>\n",
              "      <th>petal length (cm)</th>\n",
              "      <th>petal width (cm)</th>\n",
              "      <th>species</th>\n",
              "    </tr>\n",
              "  </thead>\n",
              "  <tbody>\n",
              "    <tr>\n",
              "      <th>0</th>\n",
              "      <td>-0.900681</td>\n",
              "      <td>1.019004</td>\n",
              "      <td>-1.340227</td>\n",
              "      <td>-1.315444</td>\n",
              "      <td>-1.224745</td>\n",
              "    </tr>\n",
              "    <tr>\n",
              "      <th>1</th>\n",
              "      <td>-1.143017</td>\n",
              "      <td>-0.131979</td>\n",
              "      <td>-1.340227</td>\n",
              "      <td>-1.315444</td>\n",
              "      <td>-1.224745</td>\n",
              "    </tr>\n",
              "    <tr>\n",
              "      <th>2</th>\n",
              "      <td>-1.385353</td>\n",
              "      <td>0.328414</td>\n",
              "      <td>-1.397064</td>\n",
              "      <td>-1.315444</td>\n",
              "      <td>-1.224745</td>\n",
              "    </tr>\n",
              "    <tr>\n",
              "      <th>3</th>\n",
              "      <td>-1.506521</td>\n",
              "      <td>0.098217</td>\n",
              "      <td>-1.283389</td>\n",
              "      <td>-1.315444</td>\n",
              "      <td>-1.224745</td>\n",
              "    </tr>\n",
              "    <tr>\n",
              "      <th>4</th>\n",
              "      <td>-1.021849</td>\n",
              "      <td>1.249201</td>\n",
              "      <td>-1.340227</td>\n",
              "      <td>-1.315444</td>\n",
              "      <td>-1.224745</td>\n",
              "    </tr>\n",
              "  </tbody>\n",
              "</table>\n",
              "</div>\n",
              "    <div class=\"colab-df-buttons\">\n",
              "\n",
              "  <div class=\"colab-df-container\">\n",
              "    <button class=\"colab-df-convert\" onclick=\"convertToInteractive('df-b932641c-ebc2-4e5f-904b-96684840f934')\"\n",
              "            title=\"Convert this dataframe to an interactive table.\"\n",
              "            style=\"display:none;\">\n",
              "\n",
              "  <svg xmlns=\"http://www.w3.org/2000/svg\" height=\"24px\" viewBox=\"0 -960 960 960\">\n",
              "    <path d=\"M120-120v-720h720v720H120Zm60-500h600v-160H180v160Zm220 220h160v-160H400v160Zm0 220h160v-160H400v160ZM180-400h160v-160H180v160Zm440 0h160v-160H620v160ZM180-180h160v-160H180v160Zm440 0h160v-160H620v160Z\"/>\n",
              "  </svg>\n",
              "    </button>\n",
              "\n",
              "  <style>\n",
              "    .colab-df-container {\n",
              "      display:flex;\n",
              "      gap: 12px;\n",
              "    }\n",
              "\n",
              "    .colab-df-convert {\n",
              "      background-color: #E8F0FE;\n",
              "      border: none;\n",
              "      border-radius: 50%;\n",
              "      cursor: pointer;\n",
              "      display: none;\n",
              "      fill: #1967D2;\n",
              "      height: 32px;\n",
              "      padding: 0 0 0 0;\n",
              "      width: 32px;\n",
              "    }\n",
              "\n",
              "    .colab-df-convert:hover {\n",
              "      background-color: #E2EBFA;\n",
              "      box-shadow: 0px 1px 2px rgba(60, 64, 67, 0.3), 0px 1px 3px 1px rgba(60, 64, 67, 0.15);\n",
              "      fill: #174EA6;\n",
              "    }\n",
              "\n",
              "    .colab-df-buttons div {\n",
              "      margin-bottom: 4px;\n",
              "    }\n",
              "\n",
              "    [theme=dark] .colab-df-convert {\n",
              "      background-color: #3B4455;\n",
              "      fill: #D2E3FC;\n",
              "    }\n",
              "\n",
              "    [theme=dark] .colab-df-convert:hover {\n",
              "      background-color: #434B5C;\n",
              "      box-shadow: 0px 1px 3px 1px rgba(0, 0, 0, 0.15);\n",
              "      filter: drop-shadow(0px 1px 2px rgba(0, 0, 0, 0.3));\n",
              "      fill: #FFFFFF;\n",
              "    }\n",
              "  </style>\n",
              "\n",
              "    <script>\n",
              "      const buttonEl =\n",
              "        document.querySelector('#df-b932641c-ebc2-4e5f-904b-96684840f934 button.colab-df-convert');\n",
              "      buttonEl.style.display =\n",
              "        google.colab.kernel.accessAllowed ? 'block' : 'none';\n",
              "\n",
              "      async function convertToInteractive(key) {\n",
              "        const element = document.querySelector('#df-b932641c-ebc2-4e5f-904b-96684840f934');\n",
              "        const dataTable =\n",
              "          await google.colab.kernel.invokeFunction('convertToInteractive',\n",
              "                                                    [key], {});\n",
              "        if (!dataTable) return;\n",
              "\n",
              "        const docLinkHtml = 'Like what you see? Visit the ' +\n",
              "          '<a target=\"_blank\" href=https://colab.research.google.com/notebooks/data_table.ipynb>data table notebook</a>'\n",
              "          + ' to learn more about interactive tables.';\n",
              "        element.innerHTML = '';\n",
              "        dataTable['output_type'] = 'display_data';\n",
              "        await google.colab.output.renderOutput(dataTable, element);\n",
              "        const docLink = document.createElement('div');\n",
              "        docLink.innerHTML = docLinkHtml;\n",
              "        element.appendChild(docLink);\n",
              "      }\n",
              "    </script>\n",
              "  </div>\n",
              "\n",
              "\n",
              "<div id=\"df-c5491aa6-8216-44df-be03-1246bca97f70\">\n",
              "  <button class=\"colab-df-quickchart\" onclick=\"quickchart('df-c5491aa6-8216-44df-be03-1246bca97f70')\"\n",
              "            title=\"Suggest charts\"\n",
              "            style=\"display:none;\">\n",
              "\n",
              "<svg xmlns=\"http://www.w3.org/2000/svg\" height=\"24px\"viewBox=\"0 0 24 24\"\n",
              "     width=\"24px\">\n",
              "    <g>\n",
              "        <path d=\"M19 3H5c-1.1 0-2 .9-2 2v14c0 1.1.9 2 2 2h14c1.1 0 2-.9 2-2V5c0-1.1-.9-2-2-2zM9 17H7v-7h2v7zm4 0h-2V7h2v10zm4 0h-2v-4h2v4z\"/>\n",
              "    </g>\n",
              "</svg>\n",
              "  </button>\n",
              "\n",
              "<style>\n",
              "  .colab-df-quickchart {\n",
              "      --bg-color: #E8F0FE;\n",
              "      --fill-color: #1967D2;\n",
              "      --hover-bg-color: #E2EBFA;\n",
              "      --hover-fill-color: #174EA6;\n",
              "      --disabled-fill-color: #AAA;\n",
              "      --disabled-bg-color: #DDD;\n",
              "  }\n",
              "\n",
              "  [theme=dark] .colab-df-quickchart {\n",
              "      --bg-color: #3B4455;\n",
              "      --fill-color: #D2E3FC;\n",
              "      --hover-bg-color: #434B5C;\n",
              "      --hover-fill-color: #FFFFFF;\n",
              "      --disabled-bg-color: #3B4455;\n",
              "      --disabled-fill-color: #666;\n",
              "  }\n",
              "\n",
              "  .colab-df-quickchart {\n",
              "    background-color: var(--bg-color);\n",
              "    border: none;\n",
              "    border-radius: 50%;\n",
              "    cursor: pointer;\n",
              "    display: none;\n",
              "    fill: var(--fill-color);\n",
              "    height: 32px;\n",
              "    padding: 0;\n",
              "    width: 32px;\n",
              "  }\n",
              "\n",
              "  .colab-df-quickchart:hover {\n",
              "    background-color: var(--hover-bg-color);\n",
              "    box-shadow: 0 1px 2px rgba(60, 64, 67, 0.3), 0 1px 3px 1px rgba(60, 64, 67, 0.15);\n",
              "    fill: var(--button-hover-fill-color);\n",
              "  }\n",
              "\n",
              "  .colab-df-quickchart-complete:disabled,\n",
              "  .colab-df-quickchart-complete:disabled:hover {\n",
              "    background-color: var(--disabled-bg-color);\n",
              "    fill: var(--disabled-fill-color);\n",
              "    box-shadow: none;\n",
              "  }\n",
              "\n",
              "  .colab-df-spinner {\n",
              "    border: 2px solid var(--fill-color);\n",
              "    border-color: transparent;\n",
              "    border-bottom-color: var(--fill-color);\n",
              "    animation:\n",
              "      spin 1s steps(1) infinite;\n",
              "  }\n",
              "\n",
              "  @keyframes spin {\n",
              "    0% {\n",
              "      border-color: transparent;\n",
              "      border-bottom-color: var(--fill-color);\n",
              "      border-left-color: var(--fill-color);\n",
              "    }\n",
              "    20% {\n",
              "      border-color: transparent;\n",
              "      border-left-color: var(--fill-color);\n",
              "      border-top-color: var(--fill-color);\n",
              "    }\n",
              "    30% {\n",
              "      border-color: transparent;\n",
              "      border-left-color: var(--fill-color);\n",
              "      border-top-color: var(--fill-color);\n",
              "      border-right-color: var(--fill-color);\n",
              "    }\n",
              "    40% {\n",
              "      border-color: transparent;\n",
              "      border-right-color: var(--fill-color);\n",
              "      border-top-color: var(--fill-color);\n",
              "    }\n",
              "    60% {\n",
              "      border-color: transparent;\n",
              "      border-right-color: var(--fill-color);\n",
              "    }\n",
              "    80% {\n",
              "      border-color: transparent;\n",
              "      border-right-color: var(--fill-color);\n",
              "      border-bottom-color: var(--fill-color);\n",
              "    }\n",
              "    90% {\n",
              "      border-color: transparent;\n",
              "      border-bottom-color: var(--fill-color);\n",
              "    }\n",
              "  }\n",
              "</style>\n",
              "\n",
              "  <script>\n",
              "    async function quickchart(key) {\n",
              "      const quickchartButtonEl =\n",
              "        document.querySelector('#' + key + ' button');\n",
              "      quickchartButtonEl.disabled = true;  // To prevent multiple clicks.\n",
              "      quickchartButtonEl.classList.add('colab-df-spinner');\n",
              "      try {\n",
              "        const charts = await google.colab.kernel.invokeFunction(\n",
              "            'suggestCharts', [key], {});\n",
              "      } catch (error) {\n",
              "        console.error('Error during call to suggestCharts:', error);\n",
              "      }\n",
              "      quickchartButtonEl.classList.remove('colab-df-spinner');\n",
              "      quickchartButtonEl.classList.add('colab-df-quickchart-complete');\n",
              "    }\n",
              "    (() => {\n",
              "      let quickchartButtonEl =\n",
              "        document.querySelector('#df-c5491aa6-8216-44df-be03-1246bca97f70 button');\n",
              "      quickchartButtonEl.style.display =\n",
              "        google.colab.kernel.accessAllowed ? 'block' : 'none';\n",
              "    })();\n",
              "  </script>\n",
              "</div>\n",
              "\n",
              "    </div>\n",
              "  </div>\n"
            ],
            "application/vnd.google.colaboratory.intrinsic+json": {
              "type": "dataframe",
              "variable_name": "iris_scaled_df",
              "summary": "{\n  \"name\": \"iris_scaled_df\",\n  \"rows\": 150,\n  \"fields\": [\n    {\n      \"column\": \"sepal length (cm)\",\n      \"properties\": {\n        \"dtype\": \"number\",\n        \"std\": 1.0033500931359767,\n        \"min\": -1.870024133847019,\n        \"max\": 2.4920192021244283,\n        \"num_unique_values\": 35,\n        \"samples\": [\n          0.432165404582356,\n          -1.6276883929597161,\n          -0.29484181807955234\n        ],\n        \"semantic_type\": \"\",\n        \"description\": \"\"\n      }\n    },\n    {\n      \"column\": \"sepal width (cm)\",\n      \"properties\": {\n        \"dtype\": \"number\",\n        \"std\": 1.0033500931359767,\n        \"min\": -2.433947141908088,\n        \"max\": 3.090775248299425,\n        \"num_unique_values\": 23,\n        \"samples\": [\n          -1.7433568431321493,\n          2.1699881832648384,\n          1.019004351971607\n        ],\n        \"semantic_type\": \"\",\n        \"description\": \"\"\n      }\n    },\n    {\n      \"column\": \"petal length (cm)\",\n      \"properties\": {\n        \"dtype\": \"number\",\n        \"std\": 1.0033500931359767,\n        \"min\": -1.567576234277175,\n        \"max\": 1.7858319536254108,\n        \"num_unique_values\": 43,\n        \"samples\": [\n          1.6721570997982043,\n          0.023871719303712964,\n          -0.032965707609889976\n        ],\n        \"semantic_type\": \"\",\n        \"description\": \"\"\n      }\n    },\n    {\n      \"column\": \"petal width (cm)\",\n      \"properties\": {\n        \"dtype\": \"number\",\n        \"std\": 1.0033500931359767,\n        \"min\": -1.4470764792980408,\n        \"max\": 1.7120959436691794,\n        \"num_unique_values\": 22,\n        \"samples\": [\n          -1.3154442950077403,\n          0.0008775478952682834,\n          0.13250973218556925\n        ],\n        \"semantic_type\": \"\",\n        \"description\": \"\"\n      }\n    },\n    {\n      \"column\": \"species\",\n      \"properties\": {\n        \"dtype\": \"number\",\n        \"std\": 1.0033500931359765,\n        \"min\": -1.224744871391589,\n        \"max\": 1.224744871391589,\n        \"num_unique_values\": 3,\n        \"samples\": [\n          -1.224744871391589,\n          0.0,\n          1.224744871391589\n        ],\n        \"semantic_type\": \"\",\n        \"description\": \"\"\n      }\n    }\n  ]\n}"
            }
          },
          "metadata": {},
          "execution_count": 20
        }
      ]
    },
    {
      "cell_type": "code",
      "source": [
        "다음과 같이 표준화 하는 것으로 데이터가 표준정규분포를 따르게 변환된다."
      ],
      "metadata": {
        "id": "9_OcuzlmZjS9"
      },
      "execution_count": null,
      "outputs": []
    },
    {
      "cell_type": "markdown",
      "source": [
        "![image.png](data:image/png;base64,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)"
      ],
      "metadata": {
        "id": "uiikPS-EZmpe"
      }
    },
    {
      "cell_type": "code",
      "source": [],
      "metadata": {
        "id": "uQdsYPDNZknw"
      },
      "execution_count": null,
      "outputs": []
    },
    {
      "cell_type": "markdown",
      "source": [
        "#### 피처 스케일링 - 정규화"
      ],
      "metadata": {
        "id": "AuaIzJDGZxdO"
      }
    },
    {
      "cell_type": "code",
      "source": [
        "from sklearn.preprocessing import MinMaxScaler\n",
        "\n",
        "scaler = MinMaxScaler()\n",
        "scaler.fit(iris_df)\n",
        "iris_scaled = scaler.transform(iris_df)\n",
        "\n",
        "iris_scaled_df = pd.DataFrame(iris_scaled, columns = iris_df.columns)\n",
        "iris_scaled_df.head(5)"
      ],
      "metadata": {
        "colab": {
          "base_uri": "https://localhost:8080/",
          "height": 206
        },
        "id": "KegdZM1uZzXW",
        "outputId": "45811e37-3fe0-40d0-e871-9344ceb35e32"
      },
      "execution_count": 21,
      "outputs": [
        {
          "output_type": "execute_result",
          "data": {
            "text/plain": [
              "   sepal length (cm)  sepal width (cm)  petal length (cm)  petal width (cm)  \\\n",
              "0           0.222222          0.625000           0.067797          0.041667   \n",
              "1           0.166667          0.416667           0.067797          0.041667   \n",
              "2           0.111111          0.500000           0.050847          0.041667   \n",
              "3           0.083333          0.458333           0.084746          0.041667   \n",
              "4           0.194444          0.666667           0.067797          0.041667   \n",
              "\n",
              "   species  \n",
              "0      0.0  \n",
              "1      0.0  \n",
              "2      0.0  \n",
              "3      0.0  \n",
              "4      0.0  "
            ],
            "text/html": [
              "\n",
              "  <div id=\"df-11a0422d-18ae-4475-9f26-c48b489a704f\" class=\"colab-df-container\">\n",
              "    <div>\n",
              "<style scoped>\n",
              "    .dataframe tbody tr th:only-of-type {\n",
              "        vertical-align: middle;\n",
              "    }\n",
              "\n",
              "    .dataframe tbody tr th {\n",
              "        vertical-align: top;\n",
              "    }\n",
              "\n",
              "    .dataframe thead th {\n",
              "        text-align: right;\n",
              "    }\n",
              "</style>\n",
              "<table border=\"1\" class=\"dataframe\">\n",
              "  <thead>\n",
              "    <tr style=\"text-align: right;\">\n",
              "      <th></th>\n",
              "      <th>sepal length (cm)</th>\n",
              "      <th>sepal width (cm)</th>\n",
              "      <th>petal length (cm)</th>\n",
              "      <th>petal width (cm)</th>\n",
              "      <th>species</th>\n",
              "    </tr>\n",
              "  </thead>\n",
              "  <tbody>\n",
              "    <tr>\n",
              "      <th>0</th>\n",
              "      <td>0.222222</td>\n",
              "      <td>0.625000</td>\n",
              "      <td>0.067797</td>\n",
              "      <td>0.041667</td>\n",
              "      <td>0.0</td>\n",
              "    </tr>\n",
              "    <tr>\n",
              "      <th>1</th>\n",
              "      <td>0.166667</td>\n",
              "      <td>0.416667</td>\n",
              "      <td>0.067797</td>\n",
              "      <td>0.041667</td>\n",
              "      <td>0.0</td>\n",
              "    </tr>\n",
              "    <tr>\n",
              "      <th>2</th>\n",
              "      <td>0.111111</td>\n",
              "      <td>0.500000</td>\n",
              "      <td>0.050847</td>\n",
              "      <td>0.041667</td>\n",
              "      <td>0.0</td>\n",
              "    </tr>\n",
              "    <tr>\n",
              "      <th>3</th>\n",
              "      <td>0.083333</td>\n",
              "      <td>0.458333</td>\n",
              "      <td>0.084746</td>\n",
              "      <td>0.041667</td>\n",
              "      <td>0.0</td>\n",
              "    </tr>\n",
              "    <tr>\n",
              "      <th>4</th>\n",
              "      <td>0.194444</td>\n",
              "      <td>0.666667</td>\n",
              "      <td>0.067797</td>\n",
              "      <td>0.041667</td>\n",
              "      <td>0.0</td>\n",
              "    </tr>\n",
              "  </tbody>\n",
              "</table>\n",
              "</div>\n",
              "    <div class=\"colab-df-buttons\">\n",
              "\n",
              "  <div class=\"colab-df-container\">\n",
              "    <button class=\"colab-df-convert\" onclick=\"convertToInteractive('df-11a0422d-18ae-4475-9f26-c48b489a704f')\"\n",
              "            title=\"Convert this dataframe to an interactive table.\"\n",
              "            style=\"display:none;\">\n",
              "\n",
              "  <svg xmlns=\"http://www.w3.org/2000/svg\" height=\"24px\" viewBox=\"0 -960 960 960\">\n",
              "    <path d=\"M120-120v-720h720v720H120Zm60-500h600v-160H180v160Zm220 220h160v-160H400v160Zm0 220h160v-160H400v160ZM180-400h160v-160H180v160Zm440 0h160v-160H620v160ZM180-180h160v-160H180v160Zm440 0h160v-160H620v160Z\"/>\n",
              "  </svg>\n",
              "    </button>\n",
              "\n",
              "  <style>\n",
              "    .colab-df-container {\n",
              "      display:flex;\n",
              "      gap: 12px;\n",
              "    }\n",
              "\n",
              "    .colab-df-convert {\n",
              "      background-color: #E8F0FE;\n",
              "      border: none;\n",
              "      border-radius: 50%;\n",
              "      cursor: pointer;\n",
              "      display: none;\n",
              "      fill: #1967D2;\n",
              "      height: 32px;\n",
              "      padding: 0 0 0 0;\n",
              "      width: 32px;\n",
              "    }\n",
              "\n",
              "    .colab-df-convert:hover {\n",
              "      background-color: #E2EBFA;\n",
              "      box-shadow: 0px 1px 2px rgba(60, 64, 67, 0.3), 0px 1px 3px 1px rgba(60, 64, 67, 0.15);\n",
              "      fill: #174EA6;\n",
              "    }\n",
              "\n",
              "    .colab-df-buttons div {\n",
              "      margin-bottom: 4px;\n",
              "    }\n",
              "\n",
              "    [theme=dark] .colab-df-convert {\n",
              "      background-color: #3B4455;\n",
              "      fill: #D2E3FC;\n",
              "    }\n",
              "\n",
              "    [theme=dark] .colab-df-convert:hover {\n",
              "      background-color: #434B5C;\n",
              "      box-shadow: 0px 1px 3px 1px rgba(0, 0, 0, 0.15);\n",
              "      filter: drop-shadow(0px 1px 2px rgba(0, 0, 0, 0.3));\n",
              "      fill: #FFFFFF;\n",
              "    }\n",
              "  </style>\n",
              "\n",
              "    <script>\n",
              "      const buttonEl =\n",
              "        document.querySelector('#df-11a0422d-18ae-4475-9f26-c48b489a704f button.colab-df-convert');\n",
              "      buttonEl.style.display =\n",
              "        google.colab.kernel.accessAllowed ? 'block' : 'none';\n",
              "\n",
              "      async function convertToInteractive(key) {\n",
              "        const element = document.querySelector('#df-11a0422d-18ae-4475-9f26-c48b489a704f');\n",
              "        const dataTable =\n",
              "          await google.colab.kernel.invokeFunction('convertToInteractive',\n",
              "                                                    [key], {});\n",
              "        if (!dataTable) return;\n",
              "\n",
              "        const docLinkHtml = 'Like what you see? Visit the ' +\n",
              "          '<a target=\"_blank\" href=https://colab.research.google.com/notebooks/data_table.ipynb>data table notebook</a>'\n",
              "          + ' to learn more about interactive tables.';\n",
              "        element.innerHTML = '';\n",
              "        dataTable['output_type'] = 'display_data';\n",
              "        await google.colab.output.renderOutput(dataTable, element);\n",
              "        const docLink = document.createElement('div');\n",
              "        docLink.innerHTML = docLinkHtml;\n",
              "        element.appendChild(docLink);\n",
              "      }\n",
              "    </script>\n",
              "  </div>\n",
              "\n",
              "\n",
              "<div id=\"df-89809811-faa9-4a9b-b37d-12d927a21d49\">\n",
              "  <button class=\"colab-df-quickchart\" onclick=\"quickchart('df-89809811-faa9-4a9b-b37d-12d927a21d49')\"\n",
              "            title=\"Suggest charts\"\n",
              "            style=\"display:none;\">\n",
              "\n",
              "<svg xmlns=\"http://www.w3.org/2000/svg\" height=\"24px\"viewBox=\"0 0 24 24\"\n",
              "     width=\"24px\">\n",
              "    <g>\n",
              "        <path d=\"M19 3H5c-1.1 0-2 .9-2 2v14c0 1.1.9 2 2 2h14c1.1 0 2-.9 2-2V5c0-1.1-.9-2-2-2zM9 17H7v-7h2v7zm4 0h-2V7h2v10zm4 0h-2v-4h2v4z\"/>\n",
              "    </g>\n",
              "</svg>\n",
              "  </button>\n",
              "\n",
              "<style>\n",
              "  .colab-df-quickchart {\n",
              "      --bg-color: #E8F0FE;\n",
              "      --fill-color: #1967D2;\n",
              "      --hover-bg-color: #E2EBFA;\n",
              "      --hover-fill-color: #174EA6;\n",
              "      --disabled-fill-color: #AAA;\n",
              "      --disabled-bg-color: #DDD;\n",
              "  }\n",
              "\n",
              "  [theme=dark] .colab-df-quickchart {\n",
              "      --bg-color: #3B4455;\n",
              "      --fill-color: #D2E3FC;\n",
              "      --hover-bg-color: #434B5C;\n",
              "      --hover-fill-color: #FFFFFF;\n",
              "      --disabled-bg-color: #3B4455;\n",
              "      --disabled-fill-color: #666;\n",
              "  }\n",
              "\n",
              "  .colab-df-quickchart {\n",
              "    background-color: var(--bg-color);\n",
              "    border: none;\n",
              "    border-radius: 50%;\n",
              "    cursor: pointer;\n",
              "    display: none;\n",
              "    fill: var(--fill-color);\n",
              "    height: 32px;\n",
              "    padding: 0;\n",
              "    width: 32px;\n",
              "  }\n",
              "\n",
              "  .colab-df-quickchart:hover {\n",
              "    background-color: var(--hover-bg-color);\n",
              "    box-shadow: 0 1px 2px rgba(60, 64, 67, 0.3), 0 1px 3px 1px rgba(60, 64, 67, 0.15);\n",
              "    fill: var(--button-hover-fill-color);\n",
              "  }\n",
              "\n",
              "  .colab-df-quickchart-complete:disabled,\n",
              "  .colab-df-quickchart-complete:disabled:hover {\n",
              "    background-color: var(--disabled-bg-color);\n",
              "    fill: var(--disabled-fill-color);\n",
              "    box-shadow: none;\n",
              "  }\n",
              "\n",
              "  .colab-df-spinner {\n",
              "    border: 2px solid var(--fill-color);\n",
              "    border-color: transparent;\n",
              "    border-bottom-color: var(--fill-color);\n",
              "    animation:\n",
              "      spin 1s steps(1) infinite;\n",
              "  }\n",
              "\n",
              "  @keyframes spin {\n",
              "    0% {\n",
              "      border-color: transparent;\n",
              "      border-bottom-color: var(--fill-color);\n",
              "      border-left-color: var(--fill-color);\n",
              "    }\n",
              "    20% {\n",
              "      border-color: transparent;\n",
              "      border-left-color: var(--fill-color);\n",
              "      border-top-color: var(--fill-color);\n",
              "    }\n",
              "    30% {\n",
              "      border-color: transparent;\n",
              "      border-left-color: var(--fill-color);\n",
              "      border-top-color: var(--fill-color);\n",
              "      border-right-color: var(--fill-color);\n",
              "    }\n",
              "    40% {\n",
              "      border-color: transparent;\n",
              "      border-right-color: var(--fill-color);\n",
              "      border-top-color: var(--fill-color);\n",
              "    }\n",
              "    60% {\n",
              "      border-color: transparent;\n",
              "      border-right-color: var(--fill-color);\n",
              "    }\n",
              "    80% {\n",
              "      border-color: transparent;\n",
              "      border-right-color: var(--fill-color);\n",
              "      border-bottom-color: var(--fill-color);\n",
              "    }\n",
              "    90% {\n",
              "      border-color: transparent;\n",
              "      border-bottom-color: var(--fill-color);\n",
              "    }\n",
              "  }\n",
              "</style>\n",
              "\n",
              "  <script>\n",
              "    async function quickchart(key) {\n",
              "      const quickchartButtonEl =\n",
              "        document.querySelector('#' + key + ' button');\n",
              "      quickchartButtonEl.disabled = true;  // To prevent multiple clicks.\n",
              "      quickchartButtonEl.classList.add('colab-df-spinner');\n",
              "      try {\n",
              "        const charts = await google.colab.kernel.invokeFunction(\n",
              "            'suggestCharts', [key], {});\n",
              "      } catch (error) {\n",
              "        console.error('Error during call to suggestCharts:', error);\n",
              "      }\n",
              "      quickchartButtonEl.classList.remove('colab-df-spinner');\n",
              "      quickchartButtonEl.classList.add('colab-df-quickchart-complete');\n",
              "    }\n",
              "    (() => {\n",
              "      let quickchartButtonEl =\n",
              "        document.querySelector('#df-89809811-faa9-4a9b-b37d-12d927a21d49 button');\n",
              "      quickchartButtonEl.style.display =\n",
              "        google.colab.kernel.accessAllowed ? 'block' : 'none';\n",
              "    })();\n",
              "  </script>\n",
              "</div>\n",
              "\n",
              "    </div>\n",
              "  </div>\n"
            ],
            "application/vnd.google.colaboratory.intrinsic+json": {
              "type": "dataframe",
              "variable_name": "iris_scaled_df",
              "summary": "{\n  \"name\": \"iris_scaled_df\",\n  \"rows\": 150,\n  \"fields\": [\n    {\n      \"column\": \"sepal length (cm)\",\n      \"properties\": {\n        \"dtype\": \"number\",\n        \"std\": 0.23001836888273972,\n        \"min\": 0.0,\n        \"max\": 1.0,\n        \"num_unique_values\": 35,\n        \"samples\": [\n          0.5277777777777779,\n          0.05555555555555558,\n          0.36111111111111094\n        ],\n        \"semantic_type\": \"\",\n        \"description\": \"\"\n      }\n    },\n    {\n      \"column\": \"sepal width (cm)\",\n      \"properties\": {\n        \"dtype\": \"number\",\n        \"std\": 0.18161095205695757,\n        \"min\": 0.0,\n        \"max\": 1.0,\n        \"num_unique_values\": 23,\n        \"samples\": [\n          0.12499999999999989,\n          0.8333333333333333,\n          0.625\n        ],\n        \"semantic_type\": \"\",\n        \"description\": \"\"\n      }\n    },\n    {\n      \"column\": \"petal length (cm)\",\n      \"properties\": {\n        \"dtype\": \"number\",\n        \"std\": 0.2992030903829604,\n        \"min\": 0.0,\n        \"max\": 1.0,\n        \"num_unique_values\": 43,\n        \"samples\": [\n          0.9661016949152543,\n          0.47457627118644063,\n          0.4576271186440678\n        ],\n        \"semantic_type\": \"\",\n        \"description\": \"\"\n      }\n    },\n    {\n      \"column\": \"petal width (cm)\",\n      \"properties\": {\n        \"dtype\": \"number\",\n        \"std\": 0.31759902873347773,\n        \"min\": 0.0,\n        \"max\": 1.0,\n        \"num_unique_values\": 22,\n        \"samples\": [\n          0.04166666666666667,\n          0.4583333333333333,\n          0.5000000000000001\n        ],\n        \"semantic_type\": \"\",\n        \"description\": \"\"\n      }\n    },\n    {\n      \"column\": \"species\",\n      \"properties\": {\n        \"dtype\": \"number\",\n        \"std\": 0.40961596025952024,\n        \"min\": 0.0,\n        \"max\": 1.0,\n        \"num_unique_values\": 3,\n        \"samples\": [\n          0.0,\n          0.5,\n          1.0\n        ],\n        \"semantic_type\": \"\",\n        \"description\": \"\"\n      }\n    }\n  ]\n}"
            }
          },
          "metadata": {},
          "execution_count": 21
        }
      ]
    },
    {
      "cell_type": "code",
      "source": [
        "다음과 같이 정규화 하는 것으로 데이터 값이 0~1 사이로 변환된다. (음수 역시 양수로 변환)"
      ],
      "metadata": {
        "id": "Ncb9CZ24Zrl_"
      },
      "execution_count": null,
      "outputs": []
    },
    {
      "cell_type": "markdown",
      "source": [
        "![image.png](data:image/png;base64,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)"
      ],
      "metadata": {
        "id": "Vzu91GrAZ5Fe"
      }
    },
    {
      "cell_type": "code",
      "source": [
        "# 스케일링 변환 시 유의사항"
      ],
      "metadata": {
        "id": "W1pNPG3dZ7sO"
      },
      "execution_count": null,
      "outputs": []
    },
    {
      "cell_type": "code",
      "source": [
        "스케일링 변환 시 학습/검증 데이터 모두 동일한 스케일링 기준으로 변환해야한다."
      ],
      "metadata": {
        "id": "2P1BJgNVZ-V9"
      },
      "execution_count": null,
      "outputs": []
    },
    {
      "cell_type": "code",
      "source": [
        "train_arr = np.arange(0,11).reshape(-1,1)\n",
        "test_arr = np.arange(0,6).reshape(-1,1)\n",
        "\n",
        "# 1. 동일한 스케일링 기준\n",
        "scaler = MinMaxScaler()\n",
        "scaler.fit(train_arr)\n",
        "\n",
        "train_scaled = scaler.transform(train_arr)\n",
        "test_scaled = scaler.transform(test_arr)\n",
        "\n",
        "print(\"#1. MinMaxScaler로 학습/검증 데이터 모두 10분의 1로 스케일링\")\n",
        "print(\"#1. 학습 데이터 스케일링:\", train_scaled.reshape(-1))\n",
        "print(\"#1. 검증 데이터 스케일링:\", test_scaled.reshape(-1))\n",
        "print(\"-\"*80)\n",
        "\n",
        "# 2. 학습/검증 데이터별 다른 스케일링 기준\n",
        "scaler = MinMaxScaler()\n",
        "scaler.fit(train_arr)\n",
        "\n",
        "train_scaled = scaler.transform(train_arr)\n",
        "\n",
        "scaler = MinMaxScaler()\n",
        "scaler.fit(test_arr) # 검증 데이터로 다시 fit 적용\n",
        "\n",
        "test_scaled = scaler.transform(test_arr)\n",
        "\n",
        "print(\"#2. 학습 데이터: 10분의 1, 검증 데이터: 5분의 1로 스케일링\")\n",
        "print(\"#2. 학습 데이터 스케일링:\", train_scaled.reshape(-1))\n",
        "print(\"#2. 검증 데이터 스케일링:\", test_scaled.reshape(-1))"
      ],
      "metadata": {
        "colab": {
          "base_uri": "https://localhost:8080/"
        },
        "id": "TjcJvOOQZ-Y9",
        "outputId": "e9e2aec1-3789-4385-feb8-f7afedcf65c0"
      },
      "execution_count": 22,
      "outputs": [
        {
          "output_type": "stream",
          "name": "stdout",
          "text": [
            "#1. MinMaxScaler로 학습/검증 데이터 모두 10분의 1로 스케일링\n",
            "#1. 학습 데이터 스케일링: [0.  0.1 0.2 0.3 0.4 0.5 0.6 0.7 0.8 0.9 1. ]\n",
            "#1. 검증 데이터 스케일링: [0.  0.1 0.2 0.3 0.4 0.5]\n",
            "--------------------------------------------------------------------------------\n",
            "#2. 학습 데이터: 10분의 1, 검증 데이터: 5분의 1로 스케일링\n",
            "#2. 학습 데이터 스케일링: [0.  0.1 0.2 0.3 0.4 0.5 0.6 0.7 0.8 0.9 1. ]\n",
            "#2. 검증 데이터 스케일링: [0.  0.2 0.4 0.6 0.8 1. ]\n"
          ]
        }
      ]
    },
    {
      "cell_type": "code",
      "source": [
        "스케일링 변환시에는 반드시 학습 데이터의 스케일링 기준을 따라야한다.\n",
        "\n",
        "검증 데이터에 새로 스케일링 기준을 적용하면 학습/검증 스케일링 기준이 달라진다.\n",
        "\n",
        "가능하면 전체 데이터의 스케일링 변환 뒤 학습/검증 데이터를 나누는 것이 좋다.\n",
        "\n",
        "여의치 않다면 반드시 학습 데이터의 기준으로 스케일링 하여야 한다."
      ],
      "metadata": {
        "id": "kSrEC5kaZ-d8"
      },
      "execution_count": null,
      "outputs": []
    },
    {
      "cell_type": "code",
      "source": [],
      "metadata": {
        "id": "P5oxrydFaF6d"
      },
      "execution_count": null,
      "outputs": []
    },
    {
      "cell_type": "markdown",
      "source": [
        "# 2. 타이타닉 생존자 예측"
      ],
      "metadata": {
        "id": "V634uY6AaG89"
      }
    },
    {
      "cell_type": "markdown",
      "source": [
        "## 2.1 데이터 구조"
      ],
      "metadata": {
        "id": "XENm5CtVaXKG"
      }
    },
    {
      "cell_type": "code",
      "source": [
        "PassengerId: 탑승자 데이터 일련번호\n",
        "Survived: 생존 여부, 0=사망, 1=생존\n",
        "Pclass: 티켓의 선실 등급, 1=일등석, 2=이등석, 3=삼등석\n",
        "Name: 이름\n",
        "Sex: 성별\n",
        "Age: 나이\n",
        "SibSp: 같이 탑승한 형제자매 또는 배우자 인원수\n",
        "Parch: 같이 탑승한 부모님 또는 어린이 인원수\n",
        "Ticket: 티켓 번호\n",
        "Fare: 요금\n",
        "Cabin: 선실 번호\n",
        "Embarked: 중간 정착 항구"
      ],
      "metadata": {
        "id": "3QyTFAmRaF9u"
      },
      "execution_count": null,
      "outputs": []
    },
    {
      "cell_type": "markdown",
      "source": [
        "## 2.2 데이터 불러오기"
      ],
      "metadata": {
        "id": "PUDITBk3agx0"
      }
    },
    {
      "cell_type": "code",
      "source": [
        "타이타닉 탑승자: https://www.kaggle.com/c/titanic/data"
      ],
      "metadata": {
        "id": "ZyXxwgaDaGBT"
      },
      "execution_count": null,
      "outputs": []
    },
    {
      "cell_type": "code",
      "source": [
        "titanic_df = pd.read_csv(\"/content/drive/MyDrive/Colab Notebooks/titanic_train.csv\")\n",
        "titanic_df.head(5)"
      ],
      "metadata": {
        "colab": {
          "base_uri": "https://localhost:8080/",
          "height": 258
        },
        "id": "ocM6z4eKaoLF",
        "outputId": "538e1372-4ca2-4ebf-ec22-174624579c7c"
      },
      "execution_count": 24,
      "outputs": [
        {
          "output_type": "execute_result",
          "data": {
            "text/plain": [
              "   PassengerId  Survived  Pclass  \\\n",
              "0            1         0       3   \n",
              "1            2         1       1   \n",
              "2            3         1       3   \n",
              "3            4         1       1   \n",
              "4            5         0       3   \n",
              "\n",
              "                                                Name     Sex   Age  SibSp  \\\n",
              "0                            Braund, Mr. Owen Harris    male  22.0      1   \n",
              "1  Cumings, Mrs. John Bradley (Florence Briggs Th...  female  38.0      1   \n",
              "2                             Heikkinen, Miss. Laina  female  26.0      0   \n",
              "3       Futrelle, Mrs. Jacques Heath (Lily May Peel)  female  35.0      1   \n",
              "4                           Allen, Mr. William Henry    male  35.0      0   \n",
              "\n",
              "   Parch            Ticket     Fare Cabin Embarked  \n",
              "0      0         A/5 21171   7.2500   NaN        S  \n",
              "1      0          PC 17599  71.2833   C85        C  \n",
              "2      0  STON/O2. 3101282   7.9250   NaN        S  \n",
              "3      0            113803  53.1000  C123        S  \n",
              "4      0            373450   8.0500   NaN        S  "
            ],
            "text/html": [
              "\n",
              "  <div id=\"df-9d2ed69a-59c3-4a55-aee9-53b39873269e\" class=\"colab-df-container\">\n",
              "    <div>\n",
              "<style scoped>\n",
              "    .dataframe tbody tr th:only-of-type {\n",
              "        vertical-align: middle;\n",
              "    }\n",
              "\n",
              "    .dataframe tbody tr th {\n",
              "        vertical-align: top;\n",
              "    }\n",
              "\n",
              "    .dataframe thead th {\n",
              "        text-align: right;\n",
              "    }\n",
              "</style>\n",
              "<table border=\"1\" class=\"dataframe\">\n",
              "  <thead>\n",
              "    <tr style=\"text-align: right;\">\n",
              "      <th></th>\n",
              "      <th>PassengerId</th>\n",
              "      <th>Survived</th>\n",
              "      <th>Pclass</th>\n",
              "      <th>Name</th>\n",
              "      <th>Sex</th>\n",
              "      <th>Age</th>\n",
              "      <th>SibSp</th>\n",
              "      <th>Parch</th>\n",
              "      <th>Ticket</th>\n",
              "      <th>Fare</th>\n",
              "      <th>Cabin</th>\n",
              "      <th>Embarked</th>\n",
              "    </tr>\n",
              "  </thead>\n",
              "  <tbody>\n",
              "    <tr>\n",
              "      <th>0</th>\n",
              "      <td>1</td>\n",
              "      <td>0</td>\n",
              "      <td>3</td>\n",
              "      <td>Braund, Mr. Owen Harris</td>\n",
              "      <td>male</td>\n",
              "      <td>22.0</td>\n",
              "      <td>1</td>\n",
              "      <td>0</td>\n",
              "      <td>A/5 21171</td>\n",
              "      <td>7.2500</td>\n",
              "      <td>NaN</td>\n",
              "      <td>S</td>\n",
              "    </tr>\n",
              "    <tr>\n",
              "      <th>1</th>\n",
              "      <td>2</td>\n",
              "      <td>1</td>\n",
              "      <td>1</td>\n",
              "      <td>Cumings, Mrs. John Bradley (Florence Briggs Th...</td>\n",
              "      <td>female</td>\n",
              "      <td>38.0</td>\n",
              "      <td>1</td>\n",
              "      <td>0</td>\n",
              "      <td>PC 17599</td>\n",
              "      <td>71.2833</td>\n",
              "      <td>C85</td>\n",
              "      <td>C</td>\n",
              "    </tr>\n",
              "    <tr>\n",
              "      <th>2</th>\n",
              "      <td>3</td>\n",
              "      <td>1</td>\n",
              "      <td>3</td>\n",
              "      <td>Heikkinen, Miss. Laina</td>\n",
              "      <td>female</td>\n",
              "      <td>26.0</td>\n",
              "      <td>0</td>\n",
              "      <td>0</td>\n",
              "      <td>STON/O2. 3101282</td>\n",
              "      <td>7.9250</td>\n",
              "      <td>NaN</td>\n",
              "      <td>S</td>\n",
              "    </tr>\n",
              "    <tr>\n",
              "      <th>3</th>\n",
              "      <td>4</td>\n",
              "      <td>1</td>\n",
              "      <td>1</td>\n",
              "      <td>Futrelle, Mrs. Jacques Heath (Lily May Peel)</td>\n",
              "      <td>female</td>\n",
              "      <td>35.0</td>\n",
              "      <td>1</td>\n",
              "      <td>0</td>\n",
              "      <td>113803</td>\n",
              "      <td>53.1000</td>\n",
              "      <td>C123</td>\n",
              "      <td>S</td>\n",
              "    </tr>\n",
              "    <tr>\n",
              "      <th>4</th>\n",
              "      <td>5</td>\n",
              "      <td>0</td>\n",
              "      <td>3</td>\n",
              "      <td>Allen, Mr. William Henry</td>\n",
              "      <td>male</td>\n",
              "      <td>35.0</td>\n",
              "      <td>0</td>\n",
              "      <td>0</td>\n",
              "      <td>373450</td>\n",
              "      <td>8.0500</td>\n",
              "      <td>NaN</td>\n",
              "      <td>S</td>\n",
              "    </tr>\n",
              "  </tbody>\n",
              "</table>\n",
              "</div>\n",
              "    <div class=\"colab-df-buttons\">\n",
              "\n",
              "  <div class=\"colab-df-container\">\n",
              "    <button class=\"colab-df-convert\" onclick=\"convertToInteractive('df-9d2ed69a-59c3-4a55-aee9-53b39873269e')\"\n",
              "            title=\"Convert this dataframe to an interactive table.\"\n",
              "            style=\"display:none;\">\n",
              "\n",
              "  <svg xmlns=\"http://www.w3.org/2000/svg\" height=\"24px\" viewBox=\"0 -960 960 960\">\n",
              "    <path d=\"M120-120v-720h720v720H120Zm60-500h600v-160H180v160Zm220 220h160v-160H400v160Zm0 220h160v-160H400v160ZM180-400h160v-160H180v160Zm440 0h160v-160H620v160ZM180-180h160v-160H180v160Zm440 0h160v-160H620v160Z\"/>\n",
              "  </svg>\n",
              "    </button>\n",
              "\n",
              "  <style>\n",
              "    .colab-df-container {\n",
              "      display:flex;\n",
              "      gap: 12px;\n",
              "    }\n",
              "\n",
              "    .colab-df-convert {\n",
              "      background-color: #E8F0FE;\n",
              "      border: none;\n",
              "      border-radius: 50%;\n",
              "      cursor: pointer;\n",
              "      display: none;\n",
              "      fill: #1967D2;\n",
              "      height: 32px;\n",
              "      padding: 0 0 0 0;\n",
              "      width: 32px;\n",
              "    }\n",
              "\n",
              "    .colab-df-convert:hover {\n",
              "      background-color: #E2EBFA;\n",
              "      box-shadow: 0px 1px 2px rgba(60, 64, 67, 0.3), 0px 1px 3px 1px rgba(60, 64, 67, 0.15);\n",
              "      fill: #174EA6;\n",
              "    }\n",
              "\n",
              "    .colab-df-buttons div {\n",
              "      margin-bottom: 4px;\n",
              "    }\n",
              "\n",
              "    [theme=dark] .colab-df-convert {\n",
              "      background-color: #3B4455;\n",
              "      fill: #D2E3FC;\n",
              "    }\n",
              "\n",
              "    [theme=dark] .colab-df-convert:hover {\n",
              "      background-color: #434B5C;\n",
              "      box-shadow: 0px 1px 3px 1px rgba(0, 0, 0, 0.15);\n",
              "      filter: drop-shadow(0px 1px 2px rgba(0, 0, 0, 0.3));\n",
              "      fill: #FFFFFF;\n",
              "    }\n",
              "  </style>\n",
              "\n",
              "    <script>\n",
              "      const buttonEl =\n",
              "        document.querySelector('#df-9d2ed69a-59c3-4a55-aee9-53b39873269e button.colab-df-convert');\n",
              "      buttonEl.style.display =\n",
              "        google.colab.kernel.accessAllowed ? 'block' : 'none';\n",
              "\n",
              "      async function convertToInteractive(key) {\n",
              "        const element = document.querySelector('#df-9d2ed69a-59c3-4a55-aee9-53b39873269e');\n",
              "        const dataTable =\n",
              "          await google.colab.kernel.invokeFunction('convertToInteractive',\n",
              "                                                    [key], {});\n",
              "        if (!dataTable) return;\n",
              "\n",
              "        const docLinkHtml = 'Like what you see? Visit the ' +\n",
              "          '<a target=\"_blank\" href=https://colab.research.google.com/notebooks/data_table.ipynb>data table notebook</a>'\n",
              "          + ' to learn more about interactive tables.';\n",
              "        element.innerHTML = '';\n",
              "        dataTable['output_type'] = 'display_data';\n",
              "        await google.colab.output.renderOutput(dataTable, element);\n",
              "        const docLink = document.createElement('div');\n",
              "        docLink.innerHTML = docLinkHtml;\n",
              "        element.appendChild(docLink);\n",
              "      }\n",
              "    </script>\n",
              "  </div>\n",
              "\n",
              "\n",
              "<div id=\"df-4d5c202c-c7af-4f26-89a3-f99ac206e936\">\n",
              "  <button class=\"colab-df-quickchart\" onclick=\"quickchart('df-4d5c202c-c7af-4f26-89a3-f99ac206e936')\"\n",
              "            title=\"Suggest charts\"\n",
              "            style=\"display:none;\">\n",
              "\n",
              "<svg xmlns=\"http://www.w3.org/2000/svg\" height=\"24px\"viewBox=\"0 0 24 24\"\n",
              "     width=\"24px\">\n",
              "    <g>\n",
              "        <path d=\"M19 3H5c-1.1 0-2 .9-2 2v14c0 1.1.9 2 2 2h14c1.1 0 2-.9 2-2V5c0-1.1-.9-2-2-2zM9 17H7v-7h2v7zm4 0h-2V7h2v10zm4 0h-2v-4h2v4z\"/>\n",
              "    </g>\n",
              "</svg>\n",
              "  </button>\n",
              "\n",
              "<style>\n",
              "  .colab-df-quickchart {\n",
              "      --bg-color: #E8F0FE;\n",
              "      --fill-color: #1967D2;\n",
              "      --hover-bg-color: #E2EBFA;\n",
              "      --hover-fill-color: #174EA6;\n",
              "      --disabled-fill-color: #AAA;\n",
              "      --disabled-bg-color: #DDD;\n",
              "  }\n",
              "\n",
              "  [theme=dark] .colab-df-quickchart {\n",
              "      --bg-color: #3B4455;\n",
              "      --fill-color: #D2E3FC;\n",
              "      --hover-bg-color: #434B5C;\n",
              "      --hover-fill-color: #FFFFFF;\n",
              "      --disabled-bg-color: #3B4455;\n",
              "      --disabled-fill-color: #666;\n",
              "  }\n",
              "\n",
              "  .colab-df-quickchart {\n",
              "    background-color: var(--bg-color);\n",
              "    border: none;\n",
              "    border-radius: 50%;\n",
              "    cursor: pointer;\n",
              "    display: none;\n",
              "    fill: var(--fill-color);\n",
              "    height: 32px;\n",
              "    padding: 0;\n",
              "    width: 32px;\n",
              "  }\n",
              "\n",
              "  .colab-df-quickchart:hover {\n",
              "    background-color: var(--hover-bg-color);\n",
              "    box-shadow: 0 1px 2px rgba(60, 64, 67, 0.3), 0 1px 3px 1px rgba(60, 64, 67, 0.15);\n",
              "    fill: var(--button-hover-fill-color);\n",
              "  }\n",
              "\n",
              "  .colab-df-quickchart-complete:disabled,\n",
              "  .colab-df-quickchart-complete:disabled:hover {\n",
              "    background-color: var(--disabled-bg-color);\n",
              "    fill: var(--disabled-fill-color);\n",
              "    box-shadow: none;\n",
              "  }\n",
              "\n",
              "  .colab-df-spinner {\n",
              "    border: 2px solid var(--fill-color);\n",
              "    border-color: transparent;\n",
              "    border-bottom-color: var(--fill-color);\n",
              "    animation:\n",
              "      spin 1s steps(1) infinite;\n",
              "  }\n",
              "\n",
              "  @keyframes spin {\n",
              "    0% {\n",
              "      border-color: transparent;\n",
              "      border-bottom-color: var(--fill-color);\n",
              "      border-left-color: var(--fill-color);\n",
              "    }\n",
              "    20% {\n",
              "      border-color: transparent;\n",
              "      border-left-color: var(--fill-color);\n",
              "      border-top-color: var(--fill-color);\n",
              "    }\n",
              "    30% {\n",
              "      border-color: transparent;\n",
              "      border-left-color: var(--fill-color);\n",
              "      border-top-color: var(--fill-color);\n",
              "      border-right-color: var(--fill-color);\n",
              "    }\n",
              "    40% {\n",
              "      border-color: transparent;\n",
              "      border-right-color: var(--fill-color);\n",
              "      border-top-color: var(--fill-color);\n",
              "    }\n",
              "    60% {\n",
              "      border-color: transparent;\n",
              "      border-right-color: var(--fill-color);\n",
              "    }\n",
              "    80% {\n",
              "      border-color: transparent;\n",
              "      border-right-color: var(--fill-color);\n",
              "      border-bottom-color: var(--fill-color);\n",
              "    }\n",
              "    90% {\n",
              "      border-color: transparent;\n",
              "      border-bottom-color: var(--fill-color);\n",
              "    }\n",
              "  }\n",
              "</style>\n",
              "\n",
              "  <script>\n",
              "    async function quickchart(key) {\n",
              "      const quickchartButtonEl =\n",
              "        document.querySelector('#' + key + ' button');\n",
              "      quickchartButtonEl.disabled = true;  // To prevent multiple clicks.\n",
              "      quickchartButtonEl.classList.add('colab-df-spinner');\n",
              "      try {\n",
              "        const charts = await google.colab.kernel.invokeFunction(\n",
              "            'suggestCharts', [key], {});\n",
              "      } catch (error) {\n",
              "        console.error('Error during call to suggestCharts:', error);\n",
              "      }\n",
              "      quickchartButtonEl.classList.remove('colab-df-spinner');\n",
              "      quickchartButtonEl.classList.add('colab-df-quickchart-complete');\n",
              "    }\n",
              "    (() => {\n",
              "      let quickchartButtonEl =\n",
              "        document.querySelector('#df-4d5c202c-c7af-4f26-89a3-f99ac206e936 button');\n",
              "      quickchartButtonEl.style.display =\n",
              "        google.colab.kernel.accessAllowed ? 'block' : 'none';\n",
              "    })();\n",
              "  </script>\n",
              "</div>\n",
              "\n",
              "    </div>\n",
              "  </div>\n"
            ],
            "application/vnd.google.colaboratory.intrinsic+json": {
              "type": "dataframe",
              "variable_name": "titanic_df",
              "summary": "{\n  \"name\": \"titanic_df\",\n  \"rows\": 891,\n  \"fields\": [\n    {\n      \"column\": \"PassengerId\",\n      \"properties\": {\n        \"dtype\": \"number\",\n        \"std\": 257,\n        \"min\": 1,\n        \"max\": 891,\n        \"num_unique_values\": 891,\n        \"samples\": [\n          710,\n          440,\n          841\n        ],\n        \"semantic_type\": \"\",\n        \"description\": \"\"\n      }\n    },\n    {\n      \"column\": \"Survived\",\n      \"properties\": {\n        \"dtype\": \"number\",\n        \"std\": 0,\n        \"min\": 0,\n        \"max\": 1,\n        \"num_unique_values\": 2,\n        \"samples\": [\n          1,\n          0\n        ],\n        \"semantic_type\": \"\",\n        \"description\": \"\"\n      }\n    },\n    {\n      \"column\": \"Pclass\",\n      \"properties\": {\n        \"dtype\": \"number\",\n        \"std\": 0,\n        \"min\": 1,\n        \"max\": 3,\n        \"num_unique_values\": 3,\n        \"samples\": [\n          3,\n          1\n        ],\n        \"semantic_type\": \"\",\n        \"description\": \"\"\n      }\n    },\n    {\n      \"column\": \"Name\",\n      \"properties\": {\n        \"dtype\": \"string\",\n        \"num_unique_values\": 891,\n        \"samples\": [\n          \"Moubarek, Master. Halim Gonios (\\\"William George\\\")\",\n          \"Kvillner, Mr. Johan Henrik Johannesson\"\n        ],\n        \"semantic_type\": \"\",\n        \"description\": \"\"\n      }\n    },\n    {\n      \"column\": \"Sex\",\n      \"properties\": {\n        \"dtype\": \"category\",\n        \"num_unique_values\": 2,\n        \"samples\": [\n          \"female\",\n          \"male\"\n        ],\n        \"semantic_type\": \"\",\n        \"description\": \"\"\n      }\n    },\n    {\n      \"column\": \"Age\",\n      \"properties\": {\n        \"dtype\": \"number\",\n        \"std\": 14.526497332334042,\n        \"min\": 0.42,\n        \"max\": 80.0,\n        \"num_unique_values\": 88,\n        \"samples\": [\n          0.75,\n          22.0\n        ],\n        \"semantic_type\": \"\",\n        \"description\": \"\"\n      }\n    },\n    {\n      \"column\": \"SibSp\",\n      \"properties\": {\n        \"dtype\": \"number\",\n        \"std\": 1,\n        \"min\": 0,\n        \"max\": 8,\n        \"num_unique_values\": 7,\n        \"samples\": [\n          1,\n          0\n        ],\n        \"semantic_type\": \"\",\n        \"description\": \"\"\n      }\n    },\n    {\n      \"column\": \"Parch\",\n      \"properties\": {\n        \"dtype\": \"number\",\n        \"std\": 0,\n        \"min\": 0,\n        \"max\": 6,\n        \"num_unique_values\": 7,\n        \"samples\": [\n          0,\n          1\n        ],\n        \"semantic_type\": \"\",\n        \"description\": \"\"\n      }\n    },\n    {\n      \"column\": \"Ticket\",\n      \"properties\": {\n        \"dtype\": \"string\",\n        \"num_unique_values\": 681,\n        \"samples\": [\n          \"11774\",\n          \"248740\"\n        ],\n        \"semantic_type\": \"\",\n        \"description\": \"\"\n      }\n    },\n    {\n      \"column\": \"Fare\",\n      \"properties\": {\n        \"dtype\": \"number\",\n        \"std\": 49.6934285971809,\n        \"min\": 0.0,\n        \"max\": 512.3292,\n        \"num_unique_values\": 248,\n        \"samples\": [\n          11.2417,\n          51.8625\n        ],\n        \"semantic_type\": \"\",\n        \"description\": \"\"\n      }\n    },\n    {\n      \"column\": \"Cabin\",\n      \"properties\": {\n        \"dtype\": \"category\",\n        \"num_unique_values\": 147,\n        \"samples\": [\n          \"D45\",\n          \"B49\"\n        ],\n        \"semantic_type\": \"\",\n        \"description\": \"\"\n      }\n    },\n    {\n      \"column\": \"Embarked\",\n      \"properties\": {\n        \"dtype\": \"category\",\n        \"num_unique_values\": 3,\n        \"samples\": [\n          \"S\",\n          \"C\"\n        ],\n        \"semantic_type\": \"\",\n        \"description\": \"\"\n      }\n    }\n  ]\n}"
            }
          },
          "metadata": {},
          "execution_count": 24
        }
      ]
    },
    {
      "cell_type": "code",
      "source": [
        "titanic_df.info()"
      ],
      "metadata": {
        "colab": {
          "base_uri": "https://localhost:8080/"
        },
        "id": "Splt0hUqbUUL",
        "outputId": "c3020e8b-8c41-4647-a9dd-f04d6b2d4534"
      },
      "execution_count": 25,
      "outputs": [
        {
          "output_type": "stream",
          "name": "stdout",
          "text": [
            "<class 'pandas.core.frame.DataFrame'>\n",
            "RangeIndex: 891 entries, 0 to 890\n",
            "Data columns (total 12 columns):\n",
            " #   Column       Non-Null Count  Dtype  \n",
            "---  ------       --------------  -----  \n",
            " 0   PassengerId  891 non-null    int64  \n",
            " 1   Survived     891 non-null    int64  \n",
            " 2   Pclass       891 non-null    int64  \n",
            " 3   Name         891 non-null    object \n",
            " 4   Sex          891 non-null    object \n",
            " 5   Age          714 non-null    float64\n",
            " 6   SibSp        891 non-null    int64  \n",
            " 7   Parch        891 non-null    int64  \n",
            " 8   Ticket       891 non-null    object \n",
            " 9   Fare         891 non-null    float64\n",
            " 10  Cabin        204 non-null    object \n",
            " 11  Embarked     889 non-null    object \n",
            "dtypes: float64(2), int64(5), object(5)\n",
            "memory usage: 83.7+ KB\n"
          ]
        }
      ]
    },
    {
      "cell_type": "code",
      "source": [
        "titanic_df.isna().sum()"
      ],
      "metadata": {
        "colab": {
          "base_uri": "https://localhost:8080/"
        },
        "id": "-LIyaPxqbWjt",
        "outputId": "954b7966-93b3-4d48-fc33-c612d5bd39ab"
      },
      "execution_count": 26,
      "outputs": [
        {
          "output_type": "execute_result",
          "data": {
            "text/plain": [
              "PassengerId      0\n",
              "Survived         0\n",
              "Pclass           0\n",
              "Name             0\n",
              "Sex              0\n",
              "Age            177\n",
              "SibSp            0\n",
              "Parch            0\n",
              "Ticket           0\n",
              "Fare             0\n",
              "Cabin          687\n",
              "Embarked         2\n",
              "dtype: int64"
            ]
          },
          "metadata": {},
          "execution_count": 26
        }
      ]
    },
    {
      "cell_type": "code",
      "source": [
        "891개의 행, 12개의 열로 이루어져있으며 Age, Cabin, Embarkd에 결측이 존재한다."
      ],
      "metadata": {
        "id": "VLLy_4Dkbajb"
      },
      "execution_count": null,
      "outputs": []
    },
    {
      "cell_type": "code",
      "source": [
        "titanic_df[\"Age\"].fillna( titanic_df.Age.mean(), inplace = True)\n",
        "titanic_df[\"Cabin\"].fillna( \"N\", inplace = True)\n",
        "titanic_df[\"Embarked\"].fillna( \"N\", inplace = True)\n",
        "\n",
        "print(\"결측값의 수:\", titanic_df.isna().sum().sum())"
      ],
      "metadata": {
        "colab": {
          "base_uri": "https://localhost:8080/"
        },
        "id": "Y5FC8p0DbbCN",
        "outputId": "8adea2e2-1dd4-46bf-edad-3ca093c497b0"
      },
      "execution_count": 27,
      "outputs": [
        {
          "output_type": "stream",
          "name": "stdout",
          "text": [
            "결측값의 수: 0\n"
          ]
        }
      ]
    },
    {
      "cell_type": "code",
      "source": [
        "각 변수별 결측값을 단순하게 변경하였다.\n",
        "\n",
        "Age는 원자료의 분포를 보고 중앙값, 평균 등으로 결정해도 되지만 여기선 단순 평균으로 입력하였다."
      ],
      "metadata": {
        "id": "T5bTrecUberV"
      },
      "execution_count": null,
      "outputs": []
    },
    {
      "cell_type": "code",
      "source": [],
      "metadata": {
        "id": "Bfs1dM2cbfau"
      },
      "execution_count": null,
      "outputs": []
    },
    {
      "cell_type": "markdown",
      "source": [
        "## 2.3 탐색적 데이터 분석"
      ],
      "metadata": {
        "id": "AHMw1Tttbfvk"
      }
    },
    {
      "cell_type": "code",
      "source": [
        "# 일부 문자열 변수"
      ],
      "metadata": {
        "id": "3uQfecUzbf7M"
      },
      "execution_count": null,
      "outputs": []
    },
    {
      "cell_type": "code",
      "source": [
        "print(\"Sex 값 분포:\\n\", titanic_df.Sex.value_counts())\n",
        "print(\"-\"*80)\n",
        "print(\"Cabin 값 분포:\\n\", titanic_df.Cabin.value_counts())\n",
        "print(\"-\"*80)\n",
        "print(\"Embarked 값 분포:\\n\", titanic_df.Embarked.value_counts())"
      ],
      "metadata": {
        "colab": {
          "base_uri": "https://localhost:8080/"
        },
        "id": "vVDsAKyWbn78",
        "outputId": "bf101614-939b-4358-e0d3-d63ff5e6a643"
      },
      "execution_count": 28,
      "outputs": [
        {
          "output_type": "stream",
          "name": "stdout",
          "text": [
            "Sex 값 분포:\n",
            " Sex\n",
            "male      577\n",
            "female    314\n",
            "Name: count, dtype: int64\n",
            "--------------------------------------------------------------------------------\n",
            "Cabin 값 분포:\n",
            " Cabin\n",
            "N              687\n",
            "C23 C25 C27      4\n",
            "G6               4\n",
            "B96 B98          4\n",
            "C22 C26          3\n",
            "              ... \n",
            "E34              1\n",
            "C7               1\n",
            "C54              1\n",
            "E36              1\n",
            "C148             1\n",
            "Name: count, Length: 148, dtype: int64\n",
            "--------------------------------------------------------------------------------\n",
            "Embarked 값 분포:\n",
            " Embarked\n",
            "S    644\n",
            "C    168\n",
            "Q     77\n",
            "N      2\n",
            "Name: count, dtype: int64\n"
          ]
        }
      ]
    },
    {
      "cell_type": "code",
      "source": [
        "Cabin의 경우 기존에 결측값이 모두 N으로 대체 되어 N이 가장 많이 나타났으며, “C23 C25 C27” 등 데이터가 한꺼번에 적힌 케이스가 있다.\n",
        "\n",
        "Cabin의 첫 번째 알파벳은 선실 등급을 나타내며 해당 정보가 중요하다고 판단되어 앞 글자로 수정한다."
      ],
      "metadata": {
        "id": "iVXC69P2bw8M"
      },
      "execution_count": null,
      "outputs": []
    },
    {
      "cell_type": "code",
      "source": [
        "titanic_df[\"Cabin\"] = titanic_df[\"Cabin\"].str[:1]\n",
        "print(\"Cabin 값 분포:\\n\", titanic_df.Cabin.value_counts())"
      ],
      "metadata": {
        "colab": {
          "base_uri": "https://localhost:8080/"
        },
        "id": "D_kT95H0byT3",
        "outputId": "cffb7987-eaae-4a69-b357-aeab9023a01b"
      },
      "execution_count": 29,
      "outputs": [
        {
          "output_type": "stream",
          "name": "stdout",
          "text": [
            "Cabin 값 분포:\n",
            " Cabin\n",
            "N    687\n",
            "C     59\n",
            "B     47\n",
            "D     33\n",
            "E     32\n",
            "A     15\n",
            "F     13\n",
            "G      4\n",
            "T      1\n",
            "Name: count, dtype: int64\n"
          ]
        }
      ]
    },
    {
      "cell_type": "code",
      "source": [
        "첫 번째 알파벳만으로 수정하였다."
      ],
      "metadata": {
        "id": "tcGmF80Ib1XM"
      },
      "execution_count": null,
      "outputs": []
    },
    {
      "cell_type": "code",
      "source": [
        "# 성별에 따른 생존확률"
      ],
      "metadata": {
        "id": "LHf-Ur3qb12U"
      },
      "execution_count": null,
      "outputs": []
    },
    {
      "cell_type": "code",
      "source": [
        "# titanic_df.groupby([\"Sex\"]).mean()[\"Survived\"]\n",
        "titanic_df.pivot_table(\"Survived\", \"Sex\", aggfunc=\"mean\")"
      ],
      "metadata": {
        "colab": {
          "base_uri": "https://localhost:8080/",
          "height": 143
        },
        "id": "9AKgI1kDb4mN",
        "outputId": "20877812-2e09-4b1c-dde3-19e0fb51e4cb"
      },
      "execution_count": 30,
      "outputs": [
        {
          "output_type": "execute_result",
          "data": {
            "text/plain": [
              "        Survived\n",
              "Sex             \n",
              "female  0.742038\n",
              "male    0.188908"
            ],
            "text/html": [
              "\n",
              "  <div id=\"df-6745faad-8025-44bb-acd0-b80548bf155c\" class=\"colab-df-container\">\n",
              "    <div>\n",
              "<style scoped>\n",
              "    .dataframe tbody tr th:only-of-type {\n",
              "        vertical-align: middle;\n",
              "    }\n",
              "\n",
              "    .dataframe tbody tr th {\n",
              "        vertical-align: top;\n",
              "    }\n",
              "\n",
              "    .dataframe thead th {\n",
              "        text-align: right;\n",
              "    }\n",
              "</style>\n",
              "<table border=\"1\" class=\"dataframe\">\n",
              "  <thead>\n",
              "    <tr style=\"text-align: right;\">\n",
              "      <th></th>\n",
              "      <th>Survived</th>\n",
              "    </tr>\n",
              "    <tr>\n",
              "      <th>Sex</th>\n",
              "      <th></th>\n",
              "    </tr>\n",
              "  </thead>\n",
              "  <tbody>\n",
              "    <tr>\n",
              "      <th>female</th>\n",
              "      <td>0.742038</td>\n",
              "    </tr>\n",
              "    <tr>\n",
              "      <th>male</th>\n",
              "      <td>0.188908</td>\n",
              "    </tr>\n",
              "  </tbody>\n",
              "</table>\n",
              "</div>\n",
              "    <div class=\"colab-df-buttons\">\n",
              "\n",
              "  <div class=\"colab-df-container\">\n",
              "    <button class=\"colab-df-convert\" onclick=\"convertToInteractive('df-6745faad-8025-44bb-acd0-b80548bf155c')\"\n",
              "            title=\"Convert this dataframe to an interactive table.\"\n",
              "            style=\"display:none;\">\n",
              "\n",
              "  <svg xmlns=\"http://www.w3.org/2000/svg\" height=\"24px\" viewBox=\"0 -960 960 960\">\n",
              "    <path d=\"M120-120v-720h720v720H120Zm60-500h600v-160H180v160Zm220 220h160v-160H400v160Zm0 220h160v-160H400v160ZM180-400h160v-160H180v160Zm440 0h160v-160H620v160ZM180-180h160v-160H180v160Zm440 0h160v-160H620v160Z\"/>\n",
              "  </svg>\n",
              "    </button>\n",
              "\n",
              "  <style>\n",
              "    .colab-df-container {\n",
              "      display:flex;\n",
              "      gap: 12px;\n",
              "    }\n",
              "\n",
              "    .colab-df-convert {\n",
              "      background-color: #E8F0FE;\n",
              "      border: none;\n",
              "      border-radius: 50%;\n",
              "      cursor: pointer;\n",
              "      display: none;\n",
              "      fill: #1967D2;\n",
              "      height: 32px;\n",
              "      padding: 0 0 0 0;\n",
              "      width: 32px;\n",
              "    }\n",
              "\n",
              "    .colab-df-convert:hover {\n",
              "      background-color: #E2EBFA;\n",
              "      box-shadow: 0px 1px 2px rgba(60, 64, 67, 0.3), 0px 1px 3px 1px rgba(60, 64, 67, 0.15);\n",
              "      fill: #174EA6;\n",
              "    }\n",
              "\n",
              "    .colab-df-buttons div {\n",
              "      margin-bottom: 4px;\n",
              "    }\n",
              "\n",
              "    [theme=dark] .colab-df-convert {\n",
              "      background-color: #3B4455;\n",
              "      fill: #D2E3FC;\n",
              "    }\n",
              "\n",
              "    [theme=dark] .colab-df-convert:hover {\n",
              "      background-color: #434B5C;\n",
              "      box-shadow: 0px 1px 3px 1px rgba(0, 0, 0, 0.15);\n",
              "      filter: drop-shadow(0px 1px 2px rgba(0, 0, 0, 0.3));\n",
              "      fill: #FFFFFF;\n",
              "    }\n",
              "  </style>\n",
              "\n",
              "    <script>\n",
              "      const buttonEl =\n",
              "        document.querySelector('#df-6745faad-8025-44bb-acd0-b80548bf155c button.colab-df-convert');\n",
              "      buttonEl.style.display =\n",
              "        google.colab.kernel.accessAllowed ? 'block' : 'none';\n",
              "\n",
              "      async function convertToInteractive(key) {\n",
              "        const element = document.querySelector('#df-6745faad-8025-44bb-acd0-b80548bf155c');\n",
              "        const dataTable =\n",
              "          await google.colab.kernel.invokeFunction('convertToInteractive',\n",
              "                                                    [key], {});\n",
              "        if (!dataTable) return;\n",
              "\n",
              "        const docLinkHtml = 'Like what you see? Visit the ' +\n",
              "          '<a target=\"_blank\" href=https://colab.research.google.com/notebooks/data_table.ipynb>data table notebook</a>'\n",
              "          + ' to learn more about interactive tables.';\n",
              "        element.innerHTML = '';\n",
              "        dataTable['output_type'] = 'display_data';\n",
              "        await google.colab.output.renderOutput(dataTable, element);\n",
              "        const docLink = document.createElement('div');\n",
              "        docLink.innerHTML = docLinkHtml;\n",
              "        element.appendChild(docLink);\n",
              "      }\n",
              "    </script>\n",
              "  </div>\n",
              "\n",
              "\n",
              "<div id=\"df-939e70eb-4e3f-4c67-8586-78d283f264f2\">\n",
              "  <button class=\"colab-df-quickchart\" onclick=\"quickchart('df-939e70eb-4e3f-4c67-8586-78d283f264f2')\"\n",
              "            title=\"Suggest charts\"\n",
              "            style=\"display:none;\">\n",
              "\n",
              "<svg xmlns=\"http://www.w3.org/2000/svg\" height=\"24px\"viewBox=\"0 0 24 24\"\n",
              "     width=\"24px\">\n",
              "    <g>\n",
              "        <path d=\"M19 3H5c-1.1 0-2 .9-2 2v14c0 1.1.9 2 2 2h14c1.1 0 2-.9 2-2V5c0-1.1-.9-2-2-2zM9 17H7v-7h2v7zm4 0h-2V7h2v10zm4 0h-2v-4h2v4z\"/>\n",
              "    </g>\n",
              "</svg>\n",
              "  </button>\n",
              "\n",
              "<style>\n",
              "  .colab-df-quickchart {\n",
              "      --bg-color: #E8F0FE;\n",
              "      --fill-color: #1967D2;\n",
              "      --hover-bg-color: #E2EBFA;\n",
              "      --hover-fill-color: #174EA6;\n",
              "      --disabled-fill-color: #AAA;\n",
              "      --disabled-bg-color: #DDD;\n",
              "  }\n",
              "\n",
              "  [theme=dark] .colab-df-quickchart {\n",
              "      --bg-color: #3B4455;\n",
              "      --fill-color: #D2E3FC;\n",
              "      --hover-bg-color: #434B5C;\n",
              "      --hover-fill-color: #FFFFFF;\n",
              "      --disabled-bg-color: #3B4455;\n",
              "      --disabled-fill-color: #666;\n",
              "  }\n",
              "\n",
              "  .colab-df-quickchart {\n",
              "    background-color: var(--bg-color);\n",
              "    border: none;\n",
              "    border-radius: 50%;\n",
              "    cursor: pointer;\n",
              "    display: none;\n",
              "    fill: var(--fill-color);\n",
              "    height: 32px;\n",
              "    padding: 0;\n",
              "    width: 32px;\n",
              "  }\n",
              "\n",
              "  .colab-df-quickchart:hover {\n",
              "    background-color: var(--hover-bg-color);\n",
              "    box-shadow: 0 1px 2px rgba(60, 64, 67, 0.3), 0 1px 3px 1px rgba(60, 64, 67, 0.15);\n",
              "    fill: var(--button-hover-fill-color);\n",
              "  }\n",
              "\n",
              "  .colab-df-quickchart-complete:disabled,\n",
              "  .colab-df-quickchart-complete:disabled:hover {\n",
              "    background-color: var(--disabled-bg-color);\n",
              "    fill: var(--disabled-fill-color);\n",
              "    box-shadow: none;\n",
              "  }\n",
              "\n",
              "  .colab-df-spinner {\n",
              "    border: 2px solid var(--fill-color);\n",
              "    border-color: transparent;\n",
              "    border-bottom-color: var(--fill-color);\n",
              "    animation:\n",
              "      spin 1s steps(1) infinite;\n",
              "  }\n",
              "\n",
              "  @keyframes spin {\n",
              "    0% {\n",
              "      border-color: transparent;\n",
              "      border-bottom-color: var(--fill-color);\n",
              "      border-left-color: var(--fill-color);\n",
              "    }\n",
              "    20% {\n",
              "      border-color: transparent;\n",
              "      border-left-color: var(--fill-color);\n",
              "      border-top-color: var(--fill-color);\n",
              "    }\n",
              "    30% {\n",
              "      border-color: transparent;\n",
              "      border-left-color: var(--fill-color);\n",
              "      border-top-color: var(--fill-color);\n",
              "      border-right-color: var(--fill-color);\n",
              "    }\n",
              "    40% {\n",
              "      border-color: transparent;\n",
              "      border-right-color: var(--fill-color);\n",
              "      border-top-color: var(--fill-color);\n",
              "    }\n",
              "    60% {\n",
              "      border-color: transparent;\n",
              "      border-right-color: var(--fill-color);\n",
              "    }\n",
              "    80% {\n",
              "      border-color: transparent;\n",
              "      border-right-color: var(--fill-color);\n",
              "      border-bottom-color: var(--fill-color);\n",
              "    }\n",
              "    90% {\n",
              "      border-color: transparent;\n",
              "      border-bottom-color: var(--fill-color);\n",
              "    }\n",
              "  }\n",
              "</style>\n",
              "\n",
              "  <script>\n",
              "    async function quickchart(key) {\n",
              "      const quickchartButtonEl =\n",
              "        document.querySelector('#' + key + ' button');\n",
              "      quickchartButtonEl.disabled = true;  // To prevent multiple clicks.\n",
              "      quickchartButtonEl.classList.add('colab-df-spinner');\n",
              "      try {\n",
              "        const charts = await google.colab.kernel.invokeFunction(\n",
              "            'suggestCharts', [key], {});\n",
              "      } catch (error) {\n",
              "        console.error('Error during call to suggestCharts:', error);\n",
              "      }\n",
              "      quickchartButtonEl.classList.remove('colab-df-spinner');\n",
              "      quickchartButtonEl.classList.add('colab-df-quickchart-complete');\n",
              "    }\n",
              "    (() => {\n",
              "      let quickchartButtonEl =\n",
              "        document.querySelector('#df-939e70eb-4e3f-4c67-8586-78d283f264f2 button');\n",
              "      quickchartButtonEl.style.display =\n",
              "        google.colab.kernel.accessAllowed ? 'block' : 'none';\n",
              "    })();\n",
              "  </script>\n",
              "</div>\n",
              "\n",
              "    </div>\n",
              "  </div>\n"
            ],
            "application/vnd.google.colaboratory.intrinsic+json": {
              "type": "dataframe",
              "summary": "{\n  \"name\": \"titanic_df\",\n  \"rows\": 2,\n  \"fields\": [\n    {\n      \"column\": \"Sex\",\n      \"properties\": {\n        \"dtype\": \"string\",\n        \"num_unique_values\": 2,\n        \"samples\": [\n          \"male\",\n          \"female\"\n        ],\n        \"semantic_type\": \"\",\n        \"description\": \"\"\n      }\n    },\n    {\n      \"column\": \"Survived\",\n      \"properties\": {\n        \"dtype\": \"number\",\n        \"std\": 0.391122024068098,\n        \"min\": 0.18890814558058924,\n        \"max\": 0.7420382165605095,\n        \"num_unique_values\": 2,\n        \"samples\": [\n          0.18890814558058924,\n          0.7420382165605095\n        ],\n        \"semantic_type\": \"\",\n        \"description\": \"\"\n      }\n    }\n  ]\n}"
            }
          },
          "metadata": {},
          "execution_count": 30
        }
      ]
    },
    {
      "cell_type": "code",
      "source": [
        "sns.barplot(x = \"Sex\", y = \"Survived\", data = titanic_df,\n",
        "            ci =None,\n",
        "            color = \"skyblue\")\n",
        "plt.show()"
      ],
      "metadata": {
        "colab": {
          "base_uri": "https://localhost:8080/",
          "height": 536
        },
        "id": "pAccZRoFb9EZ",
        "outputId": "1c8fd23e-4948-442e-9859-9184e1d8ec30"
      },
      "execution_count": 31,
      "outputs": [
        {
          "output_type": "stream",
          "name": "stderr",
          "text": [
            "<ipython-input-31-67e1a07e1462>:1: FutureWarning: \n",
            "\n",
            "The `ci` parameter is deprecated. Use `errorbar=None` for the same effect.\n",
            "\n",
            "  sns.barplot(x = \"Sex\", y = \"Survived\", data = titanic_df,\n"
          ]
        },
        {
          "output_type": "display_data",
          "data": {
            "text/plain": [
              "<Figure size 640x480 with 1 Axes>"
            ],
            "image/png": "[encoded data removed]"
          },
          "metadata": {}
        }
      ]
    },
    {
      "cell_type": "code",
      "source": [
        "여자의 생존확률은 74.20%, 남자의 생존확률은 18.89%로 여자의 생존확률이 높게 나타났다."
      ],
      "metadata": {
        "id": "dQJ3ZXaQcAVE"
      },
      "execution_count": null,
      "outputs": []
    },
    {
      "cell_type": "code",
      "source": [
        "# 선실 등급, 성별에 따른 생존 확률"
      ],
      "metadata": {
        "id": "VxcPeoSqcBmb"
      },
      "execution_count": null,
      "outputs": []
    },
    {
      "cell_type": "code",
      "source": [
        "sns.barplot(x = \"Pclass\", y = \"Survived\", data = titanic_df,\n",
        "            ci =None,\n",
        "            hue = \"Sex\")\n",
        "plt.show()"
      ],
      "metadata": {
        "colab": {
          "base_uri": "https://localhost:8080/",
          "height": 536
        },
        "id": "Ho3Oqd8KcCwk",
        "outputId": "970f3168-d723-4615-8496-bc294b9289dc"
      },
      "execution_count": 32,
      "outputs": [
        {
          "output_type": "stream",
          "name": "stderr",
          "text": [
            "<ipython-input-32-0ad001330104>:1: FutureWarning: \n",
            "\n",
            "The `ci` parameter is deprecated. Use `errorbar=None` for the same effect.\n",
            "\n",
            "  sns.barplot(x = \"Pclass\", y = \"Survived\", data = titanic_df,\n"
          ]
        },
        {
          "output_type": "display_data",
          "data": {
            "text/plain": [
              "<Figure size 640x480 with 1 Axes>"
            ],
            "image/png": "[encoded data removed]"
          },
          "metadata": {}
        }
      ]
    },
    {
      "cell_type": "code",
      "source": [
        "여자의 경우 일등석과 이등석간의 생존 확률 차이가 크지 않으나 삼등석일때 상대적으로 가장 낮았다.\n",
        "\n",
        "남자의 경우 일등석일때 생존 확률이 가장 높으며 이등석, 삼등석 간의 생존 확률 차이는 크지 않았다."
      ],
      "metadata": {
        "id": "asH0frR6cJ1k"
      },
      "execution_count": null,
      "outputs": []
    },
    {
      "cell_type": "code",
      "source": [
        "# 나이 그룹, 성별에 따른 생존 확률"
      ],
      "metadata": {
        "id": "0LlTF8yjcKSr"
      },
      "execution_count": null,
      "outputs": []
    },
    {
      "cell_type": "code",
      "source": [
        "# 나이 그룹 변수 추가\n",
        "bins = [np.min(titanic_df.Age), 5, 12, 18, 25, 35, 60, np.max(titanic_df.Age)]\n",
        "labels = [\"Baby\", \"Child\", \"Teenager\", \"Student\", \" Young Adult\", \"Adult\", \"Elderly\"]\n",
        "\n",
        "titanic_df[\"Age_cat\"] = pd.cut(titanic_df[\"Age\"], bins, labels=labels)\n",
        "\n",
        "# 나이 그룹별 생존 확률\n",
        "sns.barplot(x = \"Age_cat\", y = \"Survived\", data = titanic_df,\n",
        "            ci =None,\n",
        "            hue = \"Sex\")\n",
        "plt.show()"
      ],
      "metadata": {
        "colab": {
          "base_uri": "https://localhost:8080/",
          "height": 536
        },
        "id": "AOx58Pi2cMTN",
        "outputId": "238858c2-e6b0-4c89-a4d3-8cd3a4993942"
      },
      "execution_count": 33,
      "outputs": [
        {
          "output_type": "stream",
          "name": "stderr",
          "text": [
            "<ipython-input-33-c39a5294073e>:8: FutureWarning: \n",
            "\n",
            "The `ci` parameter is deprecated. Use `errorbar=None` for the same effect.\n",
            "\n",
            "  sns.barplot(x = \"Age_cat\", y = \"Survived\", data = titanic_df,\n"
          ]
        },
        {
          "output_type": "display_data",
          "data": {
            "text/plain": [
              "<Figure size 640x480 with 1 Axes>"
            ],
            "image/png": "[encoded data removed]"
          },
          "metadata": {}
        }
      ]
    },
    {
      "cell_type": "code",
      "source": [
        "여자의 경우 Child의 생존 확률은 다른 연령대에 비해 낮았으며 Elderly는 가장 높았다.\n",
        "\n",
        "남자의 경우 Elderly의 생존 확률이 가장 낮았으며 Baby의 생존 확률이 가장 높았다."
      ],
      "metadata": {
        "id": "sHF4JGotcSTk"
      },
      "execution_count": null,
      "outputs": []
    },
    {
      "cell_type": "markdown",
      "source": [
        "## 2.4 데이터 편집"
      ],
      "metadata": {
        "id": "bPoNbMFYcUJd"
      }
    },
    {
      "cell_type": "code",
      "source": [
        "지금까지의 데이터 편집과정 및 문자열 변수 인코딩 등의 함수를 생성할 것이다."
      ],
      "metadata": {
        "id": "p5_90A1ucVCC"
      },
      "execution_count": null,
      "outputs": []
    },
    {
      "cell_type": "code",
      "source": [
        "# Null 처리\n",
        "def t_fillna(df):\n",
        "    df[\"Age\"].fillna(df.Age.mean(), inplace = True)\n",
        "    df[\"Cabin\"].fillna( \"N\", inplace = True)\n",
        "    df[\"Embarked\"].fillna( \"N\", inplace = True)\n",
        "    df[\"Fare\"].fillna(0, inplace = True) # Train에서 결측은 없었음\n",
        "    return df\n",
        "\n",
        "# 머신러닝 알고리즘에 불필요한 변수 제거\n",
        "def t_drop_features(df):\n",
        "    df.drop([\"PassengerId\", \"Name\", \"Ticket\"], axis=1, inplace=True)\n",
        "    return df\n",
        "\n",
        "# 레이블 인코딩 처리\n",
        "def t_cat_encoding(df):\n",
        "    df[\"Cabin\"] = df[\"Cabin\"].str[:1]\n",
        "\n",
        "    features = [\"Cabin\", \"Sex\", \"Embarked\"]\n",
        "\n",
        "    for f in features:\n",
        "        le = LabelEncoder()\n",
        "        le = le.fit(df[f])\n",
        "        df[f] = le.transform(df[f])\n",
        "    return df\n",
        "\n",
        "# 나이 그룹 변수\n",
        "def t_age_cat(df):\n",
        "    bins = [np.min(titanic_df.Age), 5, 12, 18, 25, 35, 60, np.max(titanic_df.Age)]\n",
        "    labels = [\"Baby\", \"Child\", \"Teenager\", \"Student\", \" Young Adult\", \"Adult\", \"Elderly\"]\n",
        "\n",
        "    df[\"Age_cat\"] = pd.cut(df[\"Age\"], bins, labels=labels)\n",
        "    return df\n",
        "\n",
        "def t_transform_features(df, age_add=False):\n",
        "    t_fillna(df)\n",
        "    t_drop_features(df)\n",
        "    t_cat_encoding(df)\n",
        "\n",
        "    if age_add == True:\n",
        "        t_age_cat(df)\n",
        "\n",
        "    return df"
      ],
      "metadata": {
        "id": "_2LD5urUcW3U"
      },
      "execution_count": 34,
      "outputs": []
    },
    {
      "cell_type": "code",
      "source": [],
      "metadata": {
        "id": "Sl6Y6WS3cbSt"
      },
      "execution_count": null,
      "outputs": []
    },
    {
      "cell_type": "markdown",
      "source": [
        "## 2.5 머신러닝"
      ],
      "metadata": {
        "id": "Nu_fVqx6cbyF"
      }
    },
    {
      "cell_type": "code",
      "source": [
        "# 데이터 다시 불러오기"
      ],
      "metadata": {
        "id": "KDCKhUvqcbgM"
      },
      "execution_count": null,
      "outputs": []
    },
    {
      "cell_type": "code",
      "source": [
        "titanic_df = pd.read_csv(\"/content/drive/MyDrive/Colab Notebooks/titanic_train.csv\")\n",
        "titanic_df = t_transform_features(titanic_df)\n",
        "titanic_df.head(5)"
      ],
      "metadata": {
        "colab": {
          "base_uri": "https://localhost:8080/",
          "height": 206
        },
        "id": "ig9vKCFXchVp",
        "outputId": "76fc1642-4c28-4c25-8575-f0e1c4d1051a"
      },
      "execution_count": 36,
      "outputs": [
        {
          "output_type": "execute_result",
          "data": {
            "text/plain": [
              "   Survived  Pclass  Sex   Age  SibSp  Parch     Fare  Cabin  Embarked\n",
              "0         0       3    1  22.0      1      0   7.2500      7         3\n",
              "1         1       1    0  38.0      1      0  71.2833      2         0\n",
              "2         1       3    0  26.0      0      0   7.9250      7         3\n",
              "3         1       1    0  35.0      1      0  53.1000      2         3\n",
              "4         0       3    1  35.0      0      0   8.0500      7         3"
            ],
            "text/html": [
              "\n",
              "  <div id=\"df-8ffec575-d2cd-4587-a865-faa7d1f77ba4\" class=\"colab-df-container\">\n",
              "    <div>\n",
              "<style scoped>\n",
              "    .dataframe tbody tr th:only-of-type {\n",
              "        vertical-align: middle;\n",
              "    }\n",
              "\n",
              "    .dataframe tbody tr th {\n",
              "        vertical-align: top;\n",
              "    }\n",
              "\n",
              "    .dataframe thead th {\n",
              "        text-align: right;\n",
              "    }\n",
              "</style>\n",
              "<table border=\"1\" class=\"dataframe\">\n",
              "  <thead>\n",
              "    <tr style=\"text-align: right;\">\n",
              "      <th></th>\n",
              "      <th>Survived</th>\n",
              "      <th>Pclass</th>\n",
              "      <th>Sex</th>\n",
              "      <th>Age</th>\n",
              "      <th>SibSp</th>\n",
              "      <th>Parch</th>\n",
              "      <th>Fare</th>\n",
              "      <th>Cabin</th>\n",
              "      <th>Embarked</th>\n",
              "    </tr>\n",
              "  </thead>\n",
              "  <tbody>\n",
              "    <tr>\n",
              "      <th>0</th>\n",
              "      <td>0</td>\n",
              "      <td>3</td>\n",
              "      <td>1</td>\n",
              "      <td>22.0</td>\n",
              "      <td>1</td>\n",
              "      <td>0</td>\n",
              "      <td>7.2500</td>\n",
              "      <td>7</td>\n",
              "      <td>3</td>\n",
              "    </tr>\n",
              "    <tr>\n",
              "      <th>1</th>\n",
              "      <td>1</td>\n",
              "      <td>1</td>\n",
              "      <td>0</td>\n",
              "      <td>38.0</td>\n",
              "      <td>1</td>\n",
              "      <td>0</td>\n",
              "      <td>71.2833</td>\n",
              "      <td>2</td>\n",
              "      <td>0</td>\n",
              "    </tr>\n",
              "    <tr>\n",
              "      <th>2</th>\n",
              "      <td>1</td>\n",
              "      <td>3</td>\n",
              "      <td>0</td>\n",
              "      <td>26.0</td>\n",
              "      <td>0</td>\n",
              "      <td>0</td>\n",
              "      <td>7.9250</td>\n",
              "      <td>7</td>\n",
              "      <td>3</td>\n",
              "    </tr>\n",
              "    <tr>\n",
              "      <th>3</th>\n",
              "      <td>1</td>\n",
              "      <td>1</td>\n",
              "      <td>0</td>\n",
              "      <td>35.0</td>\n",
              "      <td>1</td>\n",
              "      <td>0</td>\n",
              "      <td>53.1000</td>\n",
              "      <td>2</td>\n",
              "      <td>3</td>\n",
              "    </tr>\n",
              "    <tr>\n",
              "      <th>4</th>\n",
              "      <td>0</td>\n",
              "      <td>3</td>\n",
              "      <td>1</td>\n",
              "      <td>35.0</td>\n",
              "      <td>0</td>\n",
              "      <td>0</td>\n",
              "      <td>8.0500</td>\n",
              "      <td>7</td>\n",
              "      <td>3</td>\n",
              "    </tr>\n",
              "  </tbody>\n",
              "</table>\n",
              "</div>\n",
              "    <div class=\"colab-df-buttons\">\n",
              "\n",
              "  <div class=\"colab-df-container\">\n",
              "    <button class=\"colab-df-convert\" onclick=\"convertToInteractive('df-8ffec575-d2cd-4587-a865-faa7d1f77ba4')\"\n",
              "            title=\"Convert this dataframe to an interactive table.\"\n",
              "            style=\"display:none;\">\n",
              "\n",
              "  <svg xmlns=\"http://www.w3.org/2000/svg\" height=\"24px\" viewBox=\"0 -960 960 960\">\n",
              "    <path d=\"M120-120v-720h720v720H120Zm60-500h600v-160H180v160Zm220 220h160v-160H400v160Zm0 220h160v-160H400v160ZM180-400h160v-160H180v160Zm440 0h160v-160H620v160ZM180-180h160v-160H180v160Zm440 0h160v-160H620v160Z\"/>\n",
              "  </svg>\n",
              "    </button>\n",
              "\n",
              "  <style>\n",
              "    .colab-df-container {\n",
              "      display:flex;\n",
              "      gap: 12px;\n",
              "    }\n",
              "\n",
              "    .colab-df-convert {\n",
              "      background-color: #E8F0FE;\n",
              "      border: none;\n",
              "      border-radius: 50%;\n",
              "      cursor: pointer;\n",
              "      display: none;\n",
              "      fill: #1967D2;\n",
              "      height: 32px;\n",
              "      padding: 0 0 0 0;\n",
              "      width: 32px;\n",
              "    }\n",
              "\n",
              "    .colab-df-convert:hover {\n",
              "      background-color: #E2EBFA;\n",
              "      box-shadow: 0px 1px 2px rgba(60, 64, 67, 0.3), 0px 1px 3px 1px rgba(60, 64, 67, 0.15);\n",
              "      fill: #174EA6;\n",
              "    }\n",
              "\n",
              "    .colab-df-buttons div {\n",
              "      margin-bottom: 4px;\n",
              "    }\n",
              "\n",
              "    [theme=dark] .colab-df-convert {\n",
              "      background-color: #3B4455;\n",
              "      fill: #D2E3FC;\n",
              "    }\n",
              "\n",
              "    [theme=dark] .colab-df-convert:hover {\n",
              "      background-color: #434B5C;\n",
              "      box-shadow: 0px 1px 3px 1px rgba(0, 0, 0, 0.15);\n",
              "      filter: drop-shadow(0px 1px 2px rgba(0, 0, 0, 0.3));\n",
              "      fill: #FFFFFF;\n",
              "    }\n",
              "  </style>\n",
              "\n",
              "    <script>\n",
              "      const buttonEl =\n",
              "        document.querySelector('#df-8ffec575-d2cd-4587-a865-faa7d1f77ba4 button.colab-df-convert');\n",
              "      buttonEl.style.display =\n",
              "        google.colab.kernel.accessAllowed ? 'block' : 'none';\n",
              "\n",
              "      async function convertToInteractive(key) {\n",
              "        const element = document.querySelector('#df-8ffec575-d2cd-4587-a865-faa7d1f77ba4');\n",
              "        const dataTable =\n",
              "          await google.colab.kernel.invokeFunction('convertToInteractive',\n",
              "                                                    [key], {});\n",
              "        if (!dataTable) return;\n",
              "\n",
              "        const docLinkHtml = 'Like what you see? Visit the ' +\n",
              "          '<a target=\"_blank\" href=https://colab.research.google.com/notebooks/data_table.ipynb>data table notebook</a>'\n",
              "          + ' to learn more about interactive tables.';\n",
              "        element.innerHTML = '';\n",
              "        dataTable['output_type'] = 'display_data';\n",
              "        await google.colab.output.renderOutput(dataTable, element);\n",
              "        const docLink = document.createElement('div');\n",
              "        docLink.innerHTML = docLinkHtml;\n",
              "        element.appendChild(docLink);\n",
              "      }\n",
              "    </script>\n",
              "  </div>\n",
              "\n",
              "\n",
              "<div id=\"df-3ae9d3ea-a958-48c8-8dd8-7973a98ee73e\">\n",
              "  <button class=\"colab-df-quickchart\" onclick=\"quickchart('df-3ae9d3ea-a958-48c8-8dd8-7973a98ee73e')\"\n",
              "            title=\"Suggest charts\"\n",
              "            style=\"display:none;\">\n",
              "\n",
              "<svg xmlns=\"http://www.w3.org/2000/svg\" height=\"24px\"viewBox=\"0 0 24 24\"\n",
              "     width=\"24px\">\n",
              "    <g>\n",
              "        <path d=\"M19 3H5c-1.1 0-2 .9-2 2v14c0 1.1.9 2 2 2h14c1.1 0 2-.9 2-2V5c0-1.1-.9-2-2-2zM9 17H7v-7h2v7zm4 0h-2V7h2v10zm4 0h-2v-4h2v4z\"/>\n",
              "    </g>\n",
              "</svg>\n",
              "  </button>\n",
              "\n",
              "<style>\n",
              "  .colab-df-quickchart {\n",
              "      --bg-color: #E8F0FE;\n",
              "      --fill-color: #1967D2;\n",
              "      --hover-bg-color: #E2EBFA;\n",
              "      --hover-fill-color: #174EA6;\n",
              "      --disabled-fill-color: #AAA;\n",
              "      --disabled-bg-color: #DDD;\n",
              "  }\n",
              "\n",
              "  [theme=dark] .colab-df-quickchart {\n",
              "      --bg-color: #3B4455;\n",
              "      --fill-color: #D2E3FC;\n",
              "      --hover-bg-color: #434B5C;\n",
              "      --hover-fill-color: #FFFFFF;\n",
              "      --disabled-bg-color: #3B4455;\n",
              "      --disabled-fill-color: #666;\n",
              "  }\n",
              "\n",
              "  .colab-df-quickchart {\n",
              "    background-color: var(--bg-color);\n",
              "    border: none;\n",
              "    border-radius: 50%;\n",
              "    cursor: pointer;\n",
              "    display: none;\n",
              "    fill: var(--fill-color);\n",
              "    height: 32px;\n",
              "    padding: 0;\n",
              "    width: 32px;\n",
              "  }\n",
              "\n",
              "  .colab-df-quickchart:hover {\n",
              "    background-color: var(--hover-bg-color);\n",
              "    box-shadow: 0 1px 2px rgba(60, 64, 67, 0.3), 0 1px 3px 1px rgba(60, 64, 67, 0.15);\n",
              "    fill: var(--button-hover-fill-color);\n",
              "  }\n",
              "\n",
              "  .colab-df-quickchart-complete:disabled,\n",
              "  .colab-df-quickchart-complete:disabled:hover {\n",
              "    background-color: var(--disabled-bg-color);\n",
              "    fill: var(--disabled-fill-color);\n",
              "    box-shadow: none;\n",
              "  }\n",
              "\n",
              "  .colab-df-spinner {\n",
              "    border: 2px solid var(--fill-color);\n",
              "    border-color: transparent;\n",
              "    border-bottom-color: var(--fill-color);\n",
              "    animation:\n",
              "      spin 1s steps(1) infinite;\n",
              "  }\n",
              "\n",
              "  @keyframes spin {\n",
              "    0% {\n",
              "      border-color: transparent;\n",
              "      border-bottom-color: var(--fill-color);\n",
              "      border-left-color: var(--fill-color);\n",
              "    }\n",
              "    20% {\n",
              "      border-color: transparent;\n",
              "      border-left-color: var(--fill-color);\n",
              "      border-top-color: var(--fill-color);\n",
              "    }\n",
              "    30% {\n",
              "      border-color: transparent;\n",
              "      border-left-color: var(--fill-color);\n",
              "      border-top-color: var(--fill-color);\n",
              "      border-right-color: var(--fill-color);\n",
              "    }\n",
              "    40% {\n",
              "      border-color: transparent;\n",
              "      border-right-color: var(--fill-color);\n",
              "      border-top-color: var(--fill-color);\n",
              "    }\n",
              "    60% {\n",
              "      border-color: transparent;\n",
              "      border-right-color: var(--fill-color);\n",
              "    }\n",
              "    80% {\n",
              "      border-color: transparent;\n",
              "      border-right-color: var(--fill-color);\n",
              "      border-bottom-color: var(--fill-color);\n",
              "    }\n",
              "    90% {\n",
              "      border-color: transparent;\n",
              "      border-bottom-color: var(--fill-color);\n",
              "    }\n",
              "  }\n",
              "</style>\n",
              "\n",
              "  <script>\n",
              "    async function quickchart(key) {\n",
              "      const quickchartButtonEl =\n",
              "        document.querySelector('#' + key + ' button');\n",
              "      quickchartButtonEl.disabled = true;  // To prevent multiple clicks.\n",
              "      quickchartButtonEl.classList.add('colab-df-spinner');\n",
              "      try {\n",
              "        const charts = await google.colab.kernel.invokeFunction(\n",
              "            'suggestCharts', [key], {});\n",
              "      } catch (error) {\n",
              "        console.error('Error during call to suggestCharts:', error);\n",
              "      }\n",
              "      quickchartButtonEl.classList.remove('colab-df-spinner');\n",
              "      quickchartButtonEl.classList.add('colab-df-quickchart-complete');\n",
              "    }\n",
              "    (() => {\n",
              "      let quickchartButtonEl =\n",
              "        document.querySelector('#df-3ae9d3ea-a958-48c8-8dd8-7973a98ee73e button');\n",
              "      quickchartButtonEl.style.display =\n",
              "        google.colab.kernel.accessAllowed ? 'block' : 'none';\n",
              "    })();\n",
              "  </script>\n",
              "</div>\n",
              "\n",
              "    </div>\n",
              "  </div>\n"
            ],
            "application/vnd.google.colaboratory.intrinsic+json": {
              "type": "dataframe",
              "variable_name": "titanic_df",
              "summary": "{\n  \"name\": \"titanic_df\",\n  \"rows\": 891,\n  \"fields\": [\n    {\n      \"column\": \"Survived\",\n      \"properties\": {\n        \"dtype\": \"number\",\n        \"std\": 0,\n        \"min\": 0,\n        \"max\": 1,\n        \"num_unique_values\": 2,\n        \"samples\": [\n          1,\n          0\n        ],\n        \"semantic_type\": \"\",\n        \"description\": \"\"\n      }\n    },\n    {\n      \"column\": \"Pclass\",\n      \"properties\": {\n        \"dtype\": \"number\",\n        \"std\": 0,\n        \"min\": 1,\n        \"max\": 3,\n        \"num_unique_values\": 3,\n        \"samples\": [\n          3,\n          1\n        ],\n        \"semantic_type\": \"\",\n        \"description\": \"\"\n      }\n    },\n    {\n      \"column\": \"Sex\",\n      \"properties\": {\n        \"dtype\": \"number\",\n        \"std\": 0,\n        \"min\": 0,\n        \"max\": 1,\n        \"num_unique_values\": 2,\n        \"samples\": [\n          0,\n          1\n        ],\n        \"semantic_type\": \"\",\n        \"description\": \"\"\n      }\n    },\n    {\n      \"column\": \"Age\",\n      \"properties\": {\n        \"dtype\": \"number\",\n        \"std\": 13.002015226002882,\n        \"min\": 0.42,\n        \"max\": 80.0,\n        \"num_unique_values\": 89,\n        \"samples\": [\n          59.0,\n          36.5\n        ],\n        \"semantic_type\": \"\",\n        \"description\": \"\"\n      }\n    },\n    {\n      \"column\": \"SibSp\",\n      \"properties\": {\n        \"dtype\": \"number\",\n        \"std\": 1,\n        \"min\": 0,\n        \"max\": 8,\n        \"num_unique_values\": 7,\n        \"samples\": [\n          1,\n          0\n        ],\n        \"semantic_type\": \"\",\n        \"description\": \"\"\n      }\n    },\n    {\n      \"column\": \"Parch\",\n      \"properties\": {\n        \"dtype\": \"number\",\n        \"std\": 0,\n        \"min\": 0,\n        \"max\": 6,\n        \"num_unique_values\": 7,\n        \"samples\": [\n          0,\n          1\n        ],\n        \"semantic_type\": \"\",\n        \"description\": \"\"\n      }\n    },\n    {\n      \"column\": \"Fare\",\n      \"properties\": {\n        \"dtype\": \"number\",\n        \"std\": 49.6934285971809,\n        \"min\": 0.0,\n        \"max\": 512.3292,\n        \"num_unique_values\": 248,\n        \"samples\": [\n          11.2417,\n          51.8625\n        ],\n        \"semantic_type\": \"\",\n        \"description\": \"\"\n      }\n    },\n    {\n      \"column\": \"Cabin\",\n      \"properties\": {\n        \"dtype\": \"number\",\n        \"std\": 2,\n        \"min\": 0,\n        \"max\": 8,\n        \"num_unique_values\": 9,\n        \"samples\": [\n          5,\n          2\n        ],\n        \"semantic_type\": \"\",\n        \"description\": \"\"\n      }\n    },\n    {\n      \"column\": \"Embarked\",\n      \"properties\": {\n        \"dtype\": \"number\",\n        \"std\": 1,\n        \"min\": 0,\n        \"max\": 3,\n        \"num_unique_values\": 4,\n        \"samples\": [\n          0,\n          1\n        ],\n        \"semantic_type\": \"\",\n        \"description\": \"\"\n      }\n    }\n  ]\n}"
            }
          },
          "metadata": {},
          "execution_count": 36
        }
      ]
    },
    {
      "cell_type": "code",
      "source": [
        "# 학습/검증 데이터 분리"
      ],
      "metadata": {
        "id": "jSkA3-efctDr"
      },
      "execution_count": null,
      "outputs": []
    },
    {
      "cell_type": "code",
      "source": [
        "titanic_X = titanic_df.drop(\"Survived\", axis=1)\n",
        "titanic_y = titanic_df[\"Survived\"]\n",
        "\n",
        "X_train, X_test, y_train, y_test = train_test_split(titanic_X, titanic_y, test_size=0.2, random_state=11)"
      ],
      "metadata": {
        "id": "4KaYSIO3ctLL"
      },
      "execution_count": 37,
      "outputs": []
    },
    {
      "cell_type": "code",
      "source": [
        "#  ML 적용"
      ],
      "metadata": {
        "id": "vTydnHSIcwl7"
      },
      "execution_count": null,
      "outputs": []
    },
    {
      "cell_type": "code",
      "source": [
        "from sklearn.tree import DecisionTreeClassifier\n",
        "from sklearn.ensemble import RandomForestClassifier\n",
        "from sklearn.linear_model import LogisticRegression\n",
        "from sklearn.metrics import accuracy_score\n",
        "\n",
        "# ML 알고리즘 객체 생성\n",
        "dt_clf = DecisionTreeClassifier(random_state=11)\n",
        "rf_clf = RandomForestClassifier(random_state=11)\n",
        "lr_clf = LogisticRegression()\n",
        "\n",
        "# DecisionTree 학습/예측/평가\n",
        "dt_clf.fit(X_train,y_train)\n",
        "dt_pred = dt_clf.predict(X_test)\n",
        "acc1 = accuracy_score(y_test, dt_pred)\n",
        "print(f\"DecisionTreeClassifier 정확도: {acc1:.4f}\")\n",
        "\n",
        "# RandomForest 학습/예측/평가\n",
        "rf_clf.fit(X_train,y_train)\n",
        "rf_pred = rf_clf.predict(X_test)\n",
        "acc2 = accuracy_score(y_test, rf_pred)\n",
        "print(f\"RandomForestClassifier 정확도: {acc2:.4f}\")\n",
        "\n",
        "# LogisticRegression 학습/예측/평가\n",
        "lr_clf.fit(X_train,y_train)\n",
        "lr_pred = lr_clf.predict(X_test)\n",
        "acc = accuracy_score(y_test, lr_pred)\n",
        "print(f\"LogisticRegression 정확도: {acc:.4f}\")"
      ],
      "metadata": {
        "colab": {
          "base_uri": "https://localhost:8080/"
        },
        "id": "_--OiF0Icyoc",
        "outputId": "f61fb463-1410-499b-b96c-5385f4499266"
      },
      "execution_count": 38,
      "outputs": [
        {
          "output_type": "stream",
          "name": "stdout",
          "text": [
            "DecisionTreeClassifier 정확도: 0.7877\n",
            "RandomForestClassifier 정확도: 0.8547\n",
            "LogisticRegression 정확도: 0.8492\n"
          ]
        },
        {
          "output_type": "stream",
          "name": "stderr",
          "text": [
            "/usr/local/lib/python3.10/dist-packages/sklearn/linear_model/_logistic.py:458: ConvergenceWarning: lbfgs failed to converge (status=1):\n",
            "STOP: TOTAL NO. of ITERATIONS REACHED LIMIT.\n",
            "\n",
            "Increase the number of iterations (max_iter) or scale the data as shown in:\n",
            "    https://scikit-learn.org/stable/modules/preprocessing.html\n",
            "Please also refer to the documentation for alternative solver options:\n",
            "    https://scikit-learn.org/stable/modules/linear_model.html#logistic-regression\n",
            "  n_iter_i = _check_optimize_result(\n"
          ]
        }
      ]
    },
    {
      "cell_type": "code",
      "source": [
        "RandomForestClassifier의 정확도가 가장 높게 나타났으나 현재는 교차검증 및 최적화 작업을 시행하지 않았다."
      ],
      "metadata": {
        "id": "iinHMTPpc6-k"
      },
      "execution_count": null,
      "outputs": []
    },
    {
      "cell_type": "code",
      "source": [
        "# DecisionTreeClassifier 교차 검증"
      ],
      "metadata": {
        "id": "9z1NNO5Fc7-D"
      },
      "execution_count": null,
      "outputs": []
    },
    {
      "cell_type": "code",
      "source": [
        "cv = KFold(5)\n",
        "accs = []\n",
        "\n",
        "for i, (train_idx, test_idx) in enumerate(cv.split(titanic_df)):\n",
        "    X_train, X_test = titanic_X.iloc[train_idx], titanic_X.iloc[test_idx]\n",
        "    y_train, y_test = titanic_y[train_idx], titanic_y[test_idx]\n",
        "\n",
        "    dt_clf.fit(X_train,y_train)\n",
        "    dt_pred = dt_clf.predict(X_test)\n",
        "    acc = accuracy_score(y_test, dt_pred)\n",
        "    accs.append(acc)\n",
        "\n",
        "    print(f\"#{i+1}. 검증 정확도: {acc:.4f}\")\n",
        "\n",
        "print(f\"##  평균 검증 정확도: {np.mean(accs):.4f}\")"
      ],
      "metadata": {
        "colab": {
          "base_uri": "https://localhost:8080/"
        },
        "id": "5Eq7o2IsdBVS",
        "outputId": "fae11631-7a48-492e-a6d3-ff447293a333"
      },
      "execution_count": 39,
      "outputs": [
        {
          "output_type": "stream",
          "name": "stdout",
          "text": [
            "#1. 검증 정확도: 0.7542\n",
            "#2. 검증 정확도: 0.7809\n",
            "#3. 검증 정확도: 0.7865\n",
            "#4. 검증 정확도: 0.7697\n",
            "#5. 검증 정확도: 0.8202\n",
            "##  평균 검증 정확도: 0.7823\n"
          ]
        }
      ]
    },
    {
      "cell_type": "code",
      "source": [
        "scores = cross_val_score(dt_clf, titanic_X, titanic_y, cv=KFold(5))\n",
        "\n",
        "for i in range(5):\n",
        "    print(f\"#{i+1}. 검증 정확도: {scores[i]:.4f}\")\n",
        "\n",
        "print(f\"##  평균 검증 정확도: {np.mean(scores):.4f}\")"
      ],
      "metadata": {
        "colab": {
          "base_uri": "https://localhost:8080/"
        },
        "id": "GWuOzqdPdGqc",
        "outputId": "a2d8149a-9f37-4ceb-a4fd-f1d945acdc78"
      },
      "execution_count": 40,
      "outputs": [
        {
          "output_type": "stream",
          "name": "stdout",
          "text": [
            "#1. 검증 정확도: 0.7542\n",
            "#2. 검증 정확도: 0.7809\n",
            "#3. 검증 정확도: 0.7865\n",
            "#4. 검증 정확도: 0.7697\n",
            "#5. 검증 정확도: 0.8202\n",
            "##  평균 검증 정확도: 0.7823\n"
          ]
        }
      ]
    },
    {
      "cell_type": "code",
      "source": [
        "# DecisionTreeClassifier GridSearchCV"
      ],
      "metadata": {
        "id": "ZErkyfvUdJM8"
      },
      "execution_count": null,
      "outputs": []
    },
    {
      "cell_type": "code",
      "source": [
        "# 학습/검증 데이터 분리\n",
        "X_train, X_test, y_train, y_test = train_test_split(titanic_X, titanic_y, test_size=0.2, random_state=11)\n",
        "\n",
        "# 하이퍼 파라미터\n",
        "parameters = {\"max_depth\": [2,3,5,10],\n",
        "             \"min_samples_split\": [2,3,5], \"min_samples_leaf\": [1,5,8]}\n",
        "\n",
        "# GridSearchCV\n",
        "grid_dclf = GridSearchCV(dt_clf, param_grid = parameters, scoring=\"accuracy\", cv=5)\n",
        "grid_dclf.fit(X_train,y_train)\n",
        "\n",
        "print(\"GridSearchCV 최적 하이퍼 파라미터:\", grid_dclf.best_params_)\n",
        "print(\"GridSearchCV 최고 정확도:\", grid_dclf.best_score_.round(4))\n",
        "\n",
        "\n",
        "# 최적 하이퍼 파라미터로 학습된 estimator로 예측 및 평가\n",
        "best_dclf = grid_dclf.best_estimator_\n",
        "dpredictions = best_dclf.predict(X_test)\n",
        "acc = accuracy_score(y_test,dpredictions)\n",
        "\n",
        "print(f\"검증 데이터 정확도: {acc:.4f}\")"
      ],
      "metadata": {
        "colab": {
          "base_uri": "https://localhost:8080/"
        },
        "id": "s7gHXb2XdKaq",
        "outputId": "0ed119d0-99dd-4fc7-8cd8-a3335a06e058"
      },
      "execution_count": 41,
      "outputs": [
        {
          "output_type": "stream",
          "name": "stdout",
          "text": [
            "GridSearchCV 최적 하이퍼 파라미터: {'max_depth': 3, 'min_samples_leaf': 5, 'min_samples_split': 2}\n",
            "GridSearchCV 최고 정확도: 0.7992\n",
            "검증 데이터 정확도: 0.8715\n"
          ]
        }
      ]
    }
  ]
}